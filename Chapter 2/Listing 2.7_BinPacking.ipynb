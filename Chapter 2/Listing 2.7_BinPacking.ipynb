{
 "cells": [
  {
   "cell_type": "code",
   "execution_count": 2,
   "metadata": {},
   "outputs": [
    {
     "name": "stdout",
     "output_type": "stream",
     "text": [
      "matplotlib version: 3.6.3\n",
      "numpy version: 1.23.5\n"
     ]
    }
   ],
   "source": [
    "from importlib.metadata import version\n",
    "\n",
    "pkgs = [\"matplotlib\",\n",
    "        \"numpy\"\n",
    "       ]\n",
    "for p in pkgs:\n",
    "    print(f\"{p} version: {version(p)}\")"
   ]
  },
  {
   "cell_type": "code",
   "execution_count": 1,
   "metadata": {},
   "outputs": [],
   "source": [
    "import numpy\n",
    "import matplotlib.pyplot as plt\n",
    "from matplotlib import cm\n",
    "from matplotlib.colors import rgb2hex\n",
    "\n",
    "width = 4\n",
    "height = 8\n",
    "\n",
    "container = numpy.full((height, width), 0)\n",
    "\n",
    "# Objects represented as a list of [width, height]\n",
    "objects = [[3, 1], [3, 3], [5, 1], [4, 2], [3, 2]]\n",
    "\n",
    "\n",
    "def visualize(container, assigned):\n",
    "    colors = cm.get_cmap(\"rainbow\", len(assigned))\n",
    "\n",
    "    row, col = container.shape\n",
    "    tbl = plt.table(\n",
    "        cellText=container, cellLoc=\"center\", loc=\"center\", colWidths=[0.1] * col\n",
    "    )\n",
    "    plt.axis(\"off\")\n",
    "    plt.axis(\"tight\")\n",
    "    for j in range(row):\n",
    "        for k in range(col):\n",
    "            cell = tbl[j, k]\n",
    "            cell.set_height(0.1)\n",
    "            if cell._text.get_text() == \"0\":\n",
    "                cell._text.set_text(\"\")\n",
    "            else:\n",
    "                cell.set_facecolor(rgb2hex(colors(int(cell._text.get_text()) - 1)[:3]))\n",
    "    plt.show()\n",
    "\n",
    "\n",
    "def fit(container, object, obj_index, rotate=True):\n",
    "    # Try fitting the object into the container\n",
    "    # Start from the top left, move first down and then to the right\n",
    "    obj_w = object[0]\n",
    "    obj_h = object[1]\n",
    "    for i in range(height - obj_h + 1):\n",
    "        for j in range(width - obj_w + 1):\n",
    "            placement = container[i : i + obj_h, j : j + obj_w]\n",
    "            if placement.sum() == 0:\n",
    "                container[i : i + obj_h, j : j + obj_w] = obj_index\n",
    "                return True\n",
    "\n",
    "    # If all else fails, rotate and try again\n",
    "    if rotate:\n",
    "        return fit(container, object[::-1], obj_index, rotate=False)\n",
    "\n",
    "\n",
    "def largest_first(container, objects):\n",
    "    excluded = []\n",
    "    assigned = []\n",
    "    # Sort the objects by area\n",
    "    objects.sort(key=lambda obj: obj[0] * obj[1], reverse=True)\n",
    "    for obj in objects:\n",
    "        if not fit(container, obj, objects.index(obj) + 1):\n",
    "            excluded.append(objects.index(obj) + 1)\n",
    "        else:\n",
    "            assigned.append(objects.index(obj) + 1)\n",
    "    if excluded: print(f\"Items excluded: {len(excluded)}\")\n",
    "    visualize(numpy.flip(container, axis=0), assigned)\n",
    "\n",
    "\n",
    "def smallest_width_first(container, objects):\n",
    "    excluded = []\n",
    "    assigned = []\n",
    "    # Sort the objects by width, and then area\n",
    "    objects.sort(key=lambda obj: (obj[0], obj[0] * obj[1]))\n",
    "    for obj in objects:\n",
    "        if not fit(container, obj, objects.index(obj) + 1):\n",
    "            excluded.append(objects.index(obj) + 1)\n",
    "        else:\n",
    "            assigned.append(objects.index(obj) + 1)\n",
    "    if excluded: print(f\"Items excluded: {len(excluded)}\")\n",
    "    visualize(numpy.flip(container, axis=0), assigned)\n"
   ]
  },
  {
   "cell_type": "code",
   "execution_count": 2,
   "metadata": {},
   "outputs": [
    {
     "name": "stdout",
     "output_type": "stream",
     "text": [
      "Items excluded: 1\n"
     ]
    },
    {
     "data": {
      "image/png": "[encoded data removed]",
      "text/plain": [
       "<Figure size 640x480 with 1 Axes>"
      ]
     },
     "metadata": {},
     "output_type": "display_data"
    }
   ],
   "source": [
    "container = numpy.full((height,width), 0)\n",
    "largest_first(container, objects)"
   ]
  },
  {
   "cell_type": "code",
   "execution_count": 3,
   "metadata": {},
   "outputs": [
    {
     "data": {
      "image/png": "[encoded data removed]",
      "text/plain": [
       "<Figure size 640x480 with 1 Axes>"
      ]
     },
     "metadata": {},
     "output_type": "display_data"
    }
   ],
   "source": [
    "container = numpy.full((height,width), 0)\n",
    "smallest_width_first(container, objects)"
   ]
  }
 ],
 "metadata": {
  "interpreter": {
   "hash": "41b757f8ad3a5c1b8ac72128b8b30229ea5b209b222ee2f02a6f9eed655a9af9"
  },
  "kernelspec": {
   "display_name": "Python 3 (ipykernel)",
   "language": "python",
   "name": "python3"
  },
  "language_info": {
   "codemirror_mode": {
    "name": "ipython",
    "version": 3
   },
   "file_extension": ".py",
   "mimetype": "text/x-python",
   "name": "python",
   "nbconvert_exporter": "python",
   "pygments_lexer": "ipython3",
   "version": "3.10.6"
  }
 },
 "nbformat": 4,
 "nbformat_minor": 4
}
