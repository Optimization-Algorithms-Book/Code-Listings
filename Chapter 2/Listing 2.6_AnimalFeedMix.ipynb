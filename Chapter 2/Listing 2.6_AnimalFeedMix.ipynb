{
 "cells": [
  {
   "cell_type": "markdown",
   "id": "e39c3d1c-d6d6-4edb-8313-9a66845f3f49",
   "metadata": {},
   "source": [
    "# Solving Linear Programming Problem using PuLP\n",
    "## Animal feed mix problem"
   ]
  },
  {
   "cell_type": "code",
   "execution_count": 1,
   "id": "c45c4c86",
   "metadata": {},
   "outputs": [
    {
     "name": "stdout",
     "output_type": "stream",
     "text": [
      "pulp version: 2.7.0\n"
     ]
    }
   ],
   "source": [
    "from importlib.metadata import version\n",
    "\n",
    "pkgs = [\"pulp\"]\n",
    "for p in pkgs:\n",
    "    print(f\"{p} version: {version(p)}\")"
   ]
  },
  {
   "cell_type": "code",
   "execution_count": 1,
   "id": "af98597c-fef9-49cf-84b1-885d7e323477",
   "metadata": {},
   "outputs": [],
   "source": [
    "from pulp import *"
   ]
  },
  {
   "cell_type": "code",
   "execution_count": 2,
   "id": "84e6b8a4-39e5-492a-bf65-21fa6c180d05",
   "metadata": {},
   "outputs": [],
   "source": [
    "# Create the 'prob' variable to contain the problem data\n",
    "model = LpProblem(\"Animal_Feed_Mix_Problem\", LpMinimize)"
   ]
  },
  {
   "cell_type": "code",
   "execution_count": 3,
   "id": "5ff4ea3b-d288-4abb-b530-b8d0554c2b46",
   "metadata": {},
   "outputs": [],
   "source": [
    "# The 3 variables Corn, Limestone and Soybean meal in the mixture respectively with a lower limit of zero\n",
    "x1 = LpVariable('Corn', lowBound = 0, upBound = 1, cat='Continous')\n",
    "x2 = LpVariable('Limestone', lowBound = 0, upBound = 1, cat='Continous')\n",
    "x3 = LpVariable('Soybean meal', lowBound = 0, upBound = 1, cat='Continous')"
   ]
  },
  {
   "cell_type": "code",
   "execution_count": 4,
   "id": "9b608770-6bde-4a06-a118-234675ea3c42",
   "metadata": {},
   "outputs": [],
   "source": [
    "# The objective function is added to 'prob' first\n",
    "model += 30.5*x1 + 10.0*x2 + 90*x3, 'Cost'"
   ]
  },
  {
   "cell_type": "code",
   "execution_count": 5,
   "id": "781fb194-efb8-4196-998c-7b1a87545f0d",
   "metadata": {},
   "outputs": [],
   "source": [
    "# Add constraints\n",
    "model +=0.008 <= 0.001*x1 + 0.38*x2 + 0.002*x3 <= 0.012, 'Calcium limits'\n",
    "model += 0.09*x1 + 0.5*x3 >=0.22, 'Minimum protein'\n",
    "model += 0.02*x1 + 0.08*x3 <=0.05, 'Maximum fiber'\n",
    "model += x1+x2+x3 == 1, 'Conservation'"
   ]
  },
  {
   "cell_type": "code",
   "execution_count": 6,
   "id": "f7589f70-84b8-4099-9f85-55a09b1bf7d3",
   "metadata": {},
   "outputs": [
    {
     "data": {
      "text/plain": [
       "1"
      ]
     },
     "execution_count": 6,
     "metadata": {},
     "output_type": "execute_result"
    }
   ],
   "source": [
    "# The problem is solved using PuLP's choice of Solver\n",
    "model.solve()"
   ]
  },
  {
   "cell_type": "code",
   "execution_count": 7,
   "id": "4f6bd3c8-6f3b-4720-961e-cc4345b9e868",
   "metadata": {},
   "outputs": [
    {
     "name": "stdout",
     "output_type": "stream",
     "text": [
      "Corn = 65.0 %\n",
      "Limestone = 3.0 %\n",
      "Soybean_meal = 32.0 %\n",
      "Total cost of the mixture per kg =  0.4916 $\n"
     ]
    }
   ],
   "source": [
    "# Print the results\n",
    "for v in model.variables():\n",
    "    print(v.name, '=', round(v.varValue,2)*100, '%')\n",
    "    \n",
    "# The optimised objective function value is printed to the screen\n",
    "print('Total cost of the mixture per kg = ', round(value(model.objective), 2)/100, '$')   "
   ]
  }
 ],
 "metadata": {
  "kernelspec": {
   "display_name": "Python 3 (ipykernel)",
   "language": "python",
   "name": "python3"
  },
  "language_info": {
   "codemirror_mode": {
    "name": "ipython",
    "version": 3
   },
   "file_extension": ".py",
   "mimetype": "text/x-python",
   "name": "python",
   "nbconvert_exporter": "python",
   "pygments_lexer": "ipython3",
   "version": "3.10.6"
  }
 },
 "nbformat": 4,
 "nbformat_minor": 5
}
