{
 "cells": [
  {
   "cell_type": "code",
   "execution_count": 1,
   "id": "a324d5ee",
   "metadata": {},
   "outputs": [
    {
     "name": "stdout",
     "output_type": "stream",
     "text": [
      "matplotlib version: 3.6.3\n",
      "numpy version: 1.23.5\n",
      "ortools version: 9.5.2237\n"
     ]
    }
   ],
   "source": [
    "from importlib.metadata import version\n",
    "\n",
    "pkgs = [\"matplotlib\",\n",
    "        \"numpy\",\n",
    "        \"ortools\"\n",
    "       ]\n",
    "for p in pkgs:\n",
    "    print(f\"{p} version: {version(p)}\")"
   ]
  },
  {
   "cell_type": "code",
   "execution_count": 1,
   "id": "86169658-eb64-42e2-b1b6-7246c94466f7",
   "metadata": {},
   "outputs": [],
   "source": [
    "import numpy as np\n",
    "import matplotlib.pyplot as plt\n",
    "from ortools.sat.python import cp_model"
   ]
  },
  {
   "cell_type": "code",
   "execution_count": 2,
   "id": "f8bb6dd3-66a8-4aff-a173-1f94e5f65ee4",
   "metadata": {},
   "outputs": [],
   "source": [
    "# Set board size for nxn Queeen problem.\n",
    "board_size = 4"
   ]
  },
  {
   "cell_type": "code",
   "execution_count": 3,
   "id": "6d8a9bf4-234b-4041-97de-9bb6ee24d6ef",
   "metadata": {},
   "outputs": [],
   "source": [
    "# Define a solver\n",
    "model = cp_model.CpModel()"
   ]
  },
  {
   "cell_type": "code",
   "execution_count": 4,
   "id": "cf6c875e-0153-4113-b25a-23fe6d06bed1",
   "metadata": {},
   "outputs": [],
   "source": [
    "# Define  the variables. The array index represents the column, and the value is the row.\n",
    "queens = [model.NewIntVar(0, board_size - 1, 'x%i' % i) for i in range(board_size)]"
   ]
  },
  {
   "cell_type": "code",
   "execution_count": 5,
   "id": "8f65abd1-8986-4994-b46e-07e7d4d1d913",
   "metadata": {},
   "outputs": [
    {
     "data": {
      "text/plain": [
       "<ortools.sat.python.cp_model.Constraint at 0x283f78f5600>"
      ]
     },
     "execution_count": 5,
     "metadata": {},
     "output_type": "execute_result"
    }
   ],
   "source": [
    "# Define the constraints\n",
    "\n",
    "# All rows must be different.\n",
    "model.AddAllDifferent(queens)\n",
    "\n",
    "# No two queens can be on the same diagonal.\n",
    "model.AddAllDifferent(queens[i] + i for i in range(board_size))\n",
    "model.AddAllDifferent(queens[i] - i for i in range(board_size))"
   ]
  },
  {
   "cell_type": "code",
   "execution_count": 6,
   "id": "13e224d0-2856-4c1b-aa73-1b4fc80a8c40",
   "metadata": {},
   "outputs": [
    {
     "data": {
      "text/plain": [
       "4"
      ]
     },
     "execution_count": 6,
     "metadata": {},
     "output_type": "execute_result"
    }
   ],
   "source": [
    "# Solve the model.\n",
    "solver = cp_model.CpSolver()\n",
    "solver.parameters.enumerate_all_solutions = True\n",
    "solver.Solve(model)"
   ]
  },
  {
   "cell_type": "code",
   "execution_count": 7,
   "id": "7a83491d-5324-4477-baeb-eb6b558321dd",
   "metadata": {},
   "outputs": [
    {
     "data": {
      "text/plain": [
       "[<matplotlib.lines.Line2D at 0x283f7a8ad10>]"
      ]
     },
     "execution_count": 7,
     "metadata": {},
     "output_type": "execute_result"
    },
    {
     "data": {
      "image/png": "[encoded data removed]",
      "text/plain": [
       "<Figure size 500x500 with 1 Axes>"
      ]
     },
     "metadata": {},
     "output_type": "display_data"
    }
   ],
   "source": [
    "# Visualizae the solution\n",
    "all_queens = range(board_size)\n",
    "state=[]\n",
    "for i in all_queens:\n",
    "    for j in all_queens:\n",
    "        if solver.Value(queens[j]) == i:\n",
    "            # There is a queen in column j, row i.\n",
    "            state.append(True)\n",
    "        else:\n",
    "            state.append(None)     \n",
    "            \n",
    "states=np.array(state).reshape(-1, board_size)\n",
    "fig = plt.figure(figsize=(5,5))\n",
    "# # Convert 2D board to 1D marker list\n",
    "markers = [\n",
    "    x.tolist().index(True) if True in x.tolist() else None\n",
    "    for x in np.transpose(states)\n",
    "]\n",
    "res = np.add.outer(range(board_size), range(board_size)) % 2\n",
    "plt.imshow(res, cmap=\"binary_r\")\n",
    "plt.xticks([])\n",
    "plt.yticks([])\n",
    "plt.plot(markers, marker=\"*\", linestyle=\"None\", markersize=100/board_size, color=\"y\")\n",
    "# plt.savefig('CH02_F09_OR_Tools.png', format='png', dpi=300)"
   ]
  }
 ],
 "metadata": {
  "kernelspec": {
   "display_name": "Python 3 (ipykernel)",
   "language": "python",
   "name": "python3"
  },
  "language_info": {
   "codemirror_mode": {
    "name": "ipython",
    "version": 3
   },
   "file_extension": ".py",
   "mimetype": "text/x-python",
   "name": "python",
   "nbconvert_exporter": "python",
   "pygments_lexer": "ipython3",
   "version": "3.10.6"
  }
 },
 "nbformat": 4,
 "nbformat_minor": 5
}
