{
 "cells": [
  {
   "cell_type": "code",
   "execution_count": 1,
   "id": "ca6aa1ee",
   "metadata": {},
   "outputs": [
    {
     "name": "stdout",
     "output_type": "stream",
     "text": [
      "sympy version: 1.11.1\n"
     ]
    }
   ],
   "source": [
    "from importlib.metadata import version\n",
    "\n",
    "pkgs = [\"sympy\"]\n",
    "for p in pkgs:\n",
    "    print(f\"{p} version: {version(p)}\")"
   ]
  },
  {
   "cell_type": "code",
   "execution_count": 1,
   "id": "33062da1",
   "metadata": {},
   "outputs": [
    {
     "name": "stdout",
     "output_type": "stream",
     "text": [
      "Optimal number of physical ticket sales: x = 6424\n",
      "Optimal number of online ticket sales: y = 3576\n",
      "Expected profil: f(x,y) = $2087260.5333\n"
     ]
    }
   ],
   "source": [
    "import sympy as sym\n",
    "\n",
    "# Define decision variables\n",
    "x,y=sym.var('x, y', positive=True) \n",
    "\n",
    "# Define the ticket pricing objective function\n",
    "f=155*x+(0.001*x**sym.Rational(3,2)+70)*y-1000000\n",
    "\n",
    "# Define equality constraint\n",
    "g=x+y-10000\n",
    "\n",
    "# Lagrange multiplier\n",
    "lamda=sym.symbols('lambda') \n",
    "\n",
    "# Define Lagrangian function\n",
    "Lagr=f-lamda*g\n",
    "\n",
    "# Equations to the solver\n",
    "eqs = [sym.diff(Lagr, x), sym.diff(Lagr, y), g]\n",
    "\n",
    "# Solving these 3 equations in 3 variables (x,y,lambda) using sympy\n",
    "sol=sym.solve(eqs,[x,y,lamda], dict=True)\n",
    "\n",
    "def getValueOf(k, L):\n",
    "    for d in L:\n",
    "        if k in d:\n",
    "            return d[k]\n",
    "\n",
    "# Print the value of the objective function\n",
    "profit=[f.subs(p) for p in sol]\n",
    "\n",
    "print(\"Optimal number of physical ticket sales: x = %.0f\" % getValueOf(x, sol))\n",
    "print(\"Optimal number of online ticket sales: y = %.0f\" % getValueOf(y, sol))\n",
    "print(\"Expected profil: f(x,y) = $%.4f\" % profit[0])"
   ]
  }
 ],
 "metadata": {
  "@webio": {
   "lastCommId": null,
   "lastKernelId": null
  },
  "kernelspec": {
   "display_name": "Python 3 (ipykernel)",
   "language": "python",
   "name": "python3"
  },
  "language_info": {
   "codemirror_mode": {
    "name": "ipython",
    "version": 3
   },
   "file_extension": ".py",
   "mimetype": "text/x-python",
   "name": "python",
   "nbconvert_exporter": "python",
   "pygments_lexer": "ipython3",
   "version": "3.10.6"
  }
 },
 "nbformat": 4,
 "nbformat_minor": 5
}
