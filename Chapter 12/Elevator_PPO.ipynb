{
  "cells": [
    {
      "cell_type": "code",
      "execution_count": 1,
      "metadata": {
        "colab": {
          "base_uri": "https://localhost:8080/"
        },
        "id": "4Svq9sh6E0iL",
        "outputId": "4edd7931-ab29-4c2b-d286-635a15a3c47c"
      },
      "outputs": [
        {
          "output_type": "stream",
          "name": "stdout",
          "text": [
            "\r0% [Working]\r            \rHit:1 http://archive.ubuntu.com/ubuntu jammy InRelease\n",
            "\r            \rHit:2 http://security.ubuntu.com/ubuntu jammy-security InRelease\n",
            "\r0% [Waiting for headers] [Connected to cloud.r-project.org (52.85.151.129)] [Co\r                                                                               \rHit:3 http://archive.ubuntu.com/ubuntu jammy-updates InRelease\n",
            "\r0% [Waiting for headers] [Connected to cloud.r-project.org (52.85.151.129)] [Co\r                                                                               \rGet:4 http://archive.ubuntu.com/ubuntu jammy-backports InRelease [109 kB]\n",
            "\r0% [4 InRelease 17.1 kB/109 kB 16%] [Connected to cloud.r-project.org (52.85.15\r                                                                               \rHit:5 https://cloud.r-project.org/bin/linux/ubuntu jammy-cran40/ InRelease\n",
            "Hit:6 https://developer.download.nvidia.com/compute/cuda/repos/ubuntu2204/x86_64  InRelease\n",
            "Hit:7 https://ppa.launchpadcontent.net/c2d4u.team/c2d4u4.0+/ubuntu jammy InRelease\n",
            "Hit:8 https://ppa.launchpadcontent.net/deadsnakes/ppa/ubuntu jammy InRelease\n",
            "Hit:9 https://ppa.launchpadcontent.net/graphics-drivers/ppa/ubuntu jammy InRelease\n",
            "Hit:10 https://ppa.launchpadcontent.net/ubuntugis/ppa/ubuntu jammy InRelease\n",
            "Fetched 109 kB in 2s (69.3 kB/s)\n",
            "Reading package lists... Done\n",
            "Reading package lists... Done\n",
            "Building dependency tree... Done\n",
            "Reading state information... Done\n",
            "swig is already the newest version (4.0.2-1ubuntu1).\n",
            "cmake is already the newest version (3.22.1-1ubuntu1.22.04.1).\n",
            "0 upgraded, 0 newly installed, 0 to remove and 30 not upgraded.\n",
            "Requirement already satisfied: box2d-py in /usr/local/lib/python3.10/dist-packages (2.3.8)\n",
            "Requirement already satisfied: stable-baselines3[extra]>=2.0.0a4 in /usr/local/lib/python3.10/dist-packages (2.0.0)\n",
            "Requirement already satisfied: gymnasium==0.28.1 in /usr/local/lib/python3.10/dist-packages (from stable-baselines3[extra]>=2.0.0a4) (0.28.1)\n",
            "Requirement already satisfied: numpy>=1.20 in /usr/local/lib/python3.10/dist-packages (from stable-baselines3[extra]>=2.0.0a4) (1.22.4)\n",
            "Requirement already satisfied: torch>=1.11 in /usr/local/lib/python3.10/dist-packages (from stable-baselines3[extra]>=2.0.0a4) (2.0.1+cu118)\n",
            "Requirement already satisfied: cloudpickle in /usr/local/lib/python3.10/dist-packages (from stable-baselines3[extra]>=2.0.0a4) (2.2.1)\n",
            "Requirement already satisfied: pandas in /usr/local/lib/python3.10/dist-packages (from stable-baselines3[extra]>=2.0.0a4) (1.5.3)\n",
            "Requirement already satisfied: matplotlib in /usr/local/lib/python3.10/dist-packages (from stable-baselines3[extra]>=2.0.0a4) (3.7.1)\n",
            "Requirement already satisfied: opencv-python in /usr/local/lib/python3.10/dist-packages (from stable-baselines3[extra]>=2.0.0a4) (4.7.0.72)\n",
            "Requirement already satisfied: tensorboard>=2.9.1 in /usr/local/lib/python3.10/dist-packages (from stable-baselines3[extra]>=2.0.0a4) (2.12.3)\n",
            "Requirement already satisfied: psutil in /usr/local/lib/python3.10/dist-packages (from stable-baselines3[extra]>=2.0.0a4) (5.9.5)\n",
            "Requirement already satisfied: tqdm in /usr/local/lib/python3.10/dist-packages (from stable-baselines3[extra]>=2.0.0a4) (4.65.0)\n",
            "Requirement already satisfied: rich in /usr/local/lib/python3.10/dist-packages (from stable-baselines3[extra]>=2.0.0a4) (13.4.2)\n",
            "Requirement already satisfied: shimmy[atari]~=0.2.1 in /usr/local/lib/python3.10/dist-packages (from stable-baselines3[extra]>=2.0.0a4) (0.2.1)\n",
            "Requirement already satisfied: pillow in /usr/local/lib/python3.10/dist-packages (from stable-baselines3[extra]>=2.0.0a4) (9.4.0)\n",
            "Requirement already satisfied: autorom[accept-rom-license]~=0.6.0 in /usr/local/lib/python3.10/dist-packages (from stable-baselines3[extra]>=2.0.0a4) (0.6.1)\n",
            "Requirement already satisfied: pygame in /usr/local/lib/python3.10/dist-packages (from stable-baselines3[extra]>=2.0.0a4) (2.5.0)\n",
            "Requirement already satisfied: jax-jumpy>=1.0.0 in /usr/local/lib/python3.10/dist-packages (from gymnasium==0.28.1->stable-baselines3[extra]>=2.0.0a4) (1.0.0)\n",
            "Requirement already satisfied: typing-extensions>=4.3.0 in /usr/local/lib/python3.10/dist-packages (from gymnasium==0.28.1->stable-baselines3[extra]>=2.0.0a4) (4.7.1)\n",
            "Requirement already satisfied: farama-notifications>=0.0.1 in /usr/local/lib/python3.10/dist-packages (from gymnasium==0.28.1->stable-baselines3[extra]>=2.0.0a4) (0.0.4)\n",
            "Requirement already satisfied: click in /usr/local/lib/python3.10/dist-packages (from autorom[accept-rom-license]~=0.6.0->stable-baselines3[extra]>=2.0.0a4) (8.1.6)\n",
            "Requirement already satisfied: requests in /usr/local/lib/python3.10/dist-packages (from autorom[accept-rom-license]~=0.6.0->stable-baselines3[extra]>=2.0.0a4) (2.27.1)\n",
            "Requirement already satisfied: AutoROM.accept-rom-license in /usr/local/lib/python3.10/dist-packages (from autorom[accept-rom-license]~=0.6.0->stable-baselines3[extra]>=2.0.0a4) (0.6.1)\n",
            "Requirement already satisfied: ale-py~=0.8.1 in /usr/local/lib/python3.10/dist-packages (from shimmy[atari]~=0.2.1->stable-baselines3[extra]>=2.0.0a4) (0.8.1)\n",
            "Requirement already satisfied: absl-py>=0.4 in /usr/local/lib/python3.10/dist-packages (from tensorboard>=2.9.1->stable-baselines3[extra]>=2.0.0a4) (1.4.0)\n",
            "Requirement already satisfied: grpcio>=1.48.2 in /usr/local/lib/python3.10/dist-packages (from tensorboard>=2.9.1->stable-baselines3[extra]>=2.0.0a4) (1.56.2)\n",
            "Requirement already satisfied: google-auth<3,>=1.6.3 in /usr/local/lib/python3.10/dist-packages (from tensorboard>=2.9.1->stable-baselines3[extra]>=2.0.0a4) (2.17.3)\n",
            "Requirement already satisfied: google-auth-oauthlib<1.1,>=0.5 in /usr/local/lib/python3.10/dist-packages (from tensorboard>=2.9.1->stable-baselines3[extra]>=2.0.0a4) (1.0.0)\n",
            "Requirement already satisfied: markdown>=2.6.8 in /usr/local/lib/python3.10/dist-packages (from tensorboard>=2.9.1->stable-baselines3[extra]>=2.0.0a4) (3.4.4)\n",
            "Requirement already satisfied: protobuf>=3.19.6 in /usr/local/lib/python3.10/dist-packages (from tensorboard>=2.9.1->stable-baselines3[extra]>=2.0.0a4) (3.20.3)\n",
            "Requirement already satisfied: setuptools>=41.0.0 in /usr/local/lib/python3.10/dist-packages (from tensorboard>=2.9.1->stable-baselines3[extra]>=2.0.0a4) (67.7.2)\n",
            "Requirement already satisfied: tensorboard-data-server<0.8.0,>=0.7.0 in /usr/local/lib/python3.10/dist-packages (from tensorboard>=2.9.1->stable-baselines3[extra]>=2.0.0a4) (0.7.1)\n",
            "Requirement already satisfied: werkzeug>=1.0.1 in /usr/local/lib/python3.10/dist-packages (from tensorboard>=2.9.1->stable-baselines3[extra]>=2.0.0a4) (2.3.6)\n",
            "Requirement already satisfied: wheel>=0.26 in /usr/local/lib/python3.10/dist-packages (from tensorboard>=2.9.1->stable-baselines3[extra]>=2.0.0a4) (0.41.0)\n",
            "Requirement already satisfied: filelock in /usr/local/lib/python3.10/dist-packages (from torch>=1.11->stable-baselines3[extra]>=2.0.0a4) (3.12.2)\n",
            "Requirement already satisfied: sympy in /usr/local/lib/python3.10/dist-packages (from torch>=1.11->stable-baselines3[extra]>=2.0.0a4) (1.11.1)\n",
            "Requirement already satisfied: networkx in /usr/local/lib/python3.10/dist-packages (from torch>=1.11->stable-baselines3[extra]>=2.0.0a4) (3.1)\n",
            "Requirement already satisfied: jinja2 in /usr/local/lib/python3.10/dist-packages (from torch>=1.11->stable-baselines3[extra]>=2.0.0a4) (3.1.2)\n",
            "Requirement already satisfied: triton==2.0.0 in /usr/local/lib/python3.10/dist-packages (from torch>=1.11->stable-baselines3[extra]>=2.0.0a4) (2.0.0)\n",
            "Requirement already satisfied: cmake in /usr/local/lib/python3.10/dist-packages (from triton==2.0.0->torch>=1.11->stable-baselines3[extra]>=2.0.0a4) (3.25.2)\n",
            "Requirement already satisfied: lit in /usr/local/lib/python3.10/dist-packages (from triton==2.0.0->torch>=1.11->stable-baselines3[extra]>=2.0.0a4) (16.0.6)\n",
            "Requirement already satisfied: contourpy>=1.0.1 in /usr/local/lib/python3.10/dist-packages (from matplotlib->stable-baselines3[extra]>=2.0.0a4) (1.1.0)\n",
            "Requirement already satisfied: cycler>=0.10 in /usr/local/lib/python3.10/dist-packages (from matplotlib->stable-baselines3[extra]>=2.0.0a4) (0.11.0)\n",
            "Requirement already satisfied: fonttools>=4.22.0 in /usr/local/lib/python3.10/dist-packages (from matplotlib->stable-baselines3[extra]>=2.0.0a4) (4.41.1)\n",
            "Requirement already satisfied: kiwisolver>=1.0.1 in /usr/local/lib/python3.10/dist-packages (from matplotlib->stable-baselines3[extra]>=2.0.0a4) (1.4.4)\n",
            "Requirement already satisfied: packaging>=20.0 in /usr/local/lib/python3.10/dist-packages (from matplotlib->stable-baselines3[extra]>=2.0.0a4) (23.1)\n",
            "Requirement already satisfied: pyparsing>=2.3.1 in /usr/local/lib/python3.10/dist-packages (from matplotlib->stable-baselines3[extra]>=2.0.0a4) (3.1.0)\n",
            "Requirement already satisfied: python-dateutil>=2.7 in /usr/local/lib/python3.10/dist-packages (from matplotlib->stable-baselines3[extra]>=2.0.0a4) (2.8.2)\n",
            "Requirement already satisfied: pytz>=2020.1 in /usr/local/lib/python3.10/dist-packages (from pandas->stable-baselines3[extra]>=2.0.0a4) (2022.7.1)\n",
            "Requirement already satisfied: markdown-it-py>=2.2.0 in /usr/local/lib/python3.10/dist-packages (from rich->stable-baselines3[extra]>=2.0.0a4) (3.0.0)\n",
            "Requirement already satisfied: pygments<3.0.0,>=2.13.0 in /usr/local/lib/python3.10/dist-packages (from rich->stable-baselines3[extra]>=2.0.0a4) (2.14.0)\n",
            "Requirement already satisfied: importlib-resources in /usr/local/lib/python3.10/dist-packages (from ale-py~=0.8.1->shimmy[atari]~=0.2.1->stable-baselines3[extra]>=2.0.0a4) (6.0.0)\n",
            "Requirement already satisfied: cachetools<6.0,>=2.0.0 in /usr/local/lib/python3.10/dist-packages (from google-auth<3,>=1.6.3->tensorboard>=2.9.1->stable-baselines3[extra]>=2.0.0a4) (5.3.1)\n",
            "Requirement already satisfied: pyasn1-modules>=0.2.1 in /usr/local/lib/python3.10/dist-packages (from google-auth<3,>=1.6.3->tensorboard>=2.9.1->stable-baselines3[extra]>=2.0.0a4) (0.3.0)\n",
            "Requirement already satisfied: six>=1.9.0 in /usr/local/lib/python3.10/dist-packages (from google-auth<3,>=1.6.3->tensorboard>=2.9.1->stable-baselines3[extra]>=2.0.0a4) (1.16.0)\n",
            "Requirement already satisfied: rsa<5,>=3.1.4 in /usr/local/lib/python3.10/dist-packages (from google-auth<3,>=1.6.3->tensorboard>=2.9.1->stable-baselines3[extra]>=2.0.0a4) (4.9)\n",
            "Requirement already satisfied: requests-oauthlib>=0.7.0 in /usr/local/lib/python3.10/dist-packages (from google-auth-oauthlib<1.1,>=0.5->tensorboard>=2.9.1->stable-baselines3[extra]>=2.0.0a4) (1.3.1)\n",
            "Requirement already satisfied: mdurl~=0.1 in /usr/local/lib/python3.10/dist-packages (from markdown-it-py>=2.2.0->rich->stable-baselines3[extra]>=2.0.0a4) (0.1.2)\n",
            "Requirement already satisfied: urllib3<1.27,>=1.21.1 in /usr/local/lib/python3.10/dist-packages (from requests->autorom[accept-rom-license]~=0.6.0->stable-baselines3[extra]>=2.0.0a4) (1.26.16)\n",
            "Requirement already satisfied: certifi>=2017.4.17 in /usr/local/lib/python3.10/dist-packages (from requests->autorom[accept-rom-license]~=0.6.0->stable-baselines3[extra]>=2.0.0a4) (2023.7.22)\n",
            "Requirement already satisfied: charset-normalizer~=2.0.0 in /usr/local/lib/python3.10/dist-packages (from requests->autorom[accept-rom-license]~=0.6.0->stable-baselines3[extra]>=2.0.0a4) (2.0.12)\n",
            "Requirement already satisfied: idna<4,>=2.5 in /usr/local/lib/python3.10/dist-packages (from requests->autorom[accept-rom-license]~=0.6.0->stable-baselines3[extra]>=2.0.0a4) (3.4)\n",
            "Requirement already satisfied: MarkupSafe>=2.1.1 in /usr/local/lib/python3.10/dist-packages (from werkzeug>=1.0.1->tensorboard>=2.9.1->stable-baselines3[extra]>=2.0.0a4) (2.1.3)\n",
            "Requirement already satisfied: mpmath>=0.19 in /usr/local/lib/python3.10/dist-packages (from sympy->torch>=1.11->stable-baselines3[extra]>=2.0.0a4) (1.3.0)\n",
            "Requirement already satisfied: pyasn1<0.6.0,>=0.4.6 in /usr/local/lib/python3.10/dist-packages (from pyasn1-modules>=0.2.1->google-auth<3,>=1.6.3->tensorboard>=2.9.1->stable-baselines3[extra]>=2.0.0a4) (0.5.0)\n",
            "Requirement already satisfied: oauthlib>=3.0.0 in /usr/local/lib/python3.10/dist-packages (from requests-oauthlib>=0.7.0->google-auth-oauthlib<1.1,>=0.5->tensorboard>=2.9.1->stable-baselines3[extra]>=2.0.0a4) (3.2.2)\n"
          ]
        }
      ],
      "source": [
        "!apt-get update && apt-get install swig cmake\n",
        "!pip install box2d-py\n",
        "!pip install \"stable-baselines3[extra]>=2.0.0a4\""
      ]
    },
    {
      "cell_type": "markdown",
      "metadata": {
        "id": "qS8W9SOvH5Go"
      },
      "source": [
        "## Setup"
      ]
    },
    {
      "cell_type": "code",
      "execution_count": 2,
      "metadata": {
        "colab": {
          "base_uri": "https://localhost:8080/"
        },
        "id": "ETFxu3QxlKa1",
        "outputId": "f6c01fac-01b8-4f49-ad8f-086a30a9fab6"
      },
      "outputs": [
        {
          "output_type": "stream",
          "name": "stderr",
          "text": [
            "/usr/local/lib/python3.10/dist-packages/torch/utils/tensorboard/__init__.py:4: DeprecationWarning: distutils Version classes are deprecated. Use packaging.version instead.\n",
            "  if not hasattr(tensorboard, \"__version__\") or LooseVersion(\n"
          ]
        }
      ],
      "source": [
        "import torch\n",
        "import os\n",
        "\n",
        "import gymnasium as gym\n",
        "import numpy as np\n",
        "import matplotlib.pyplot as plt\n",
        "\n",
        "from stable_baselines3.common.monitor import Monitor\n",
        "from stable_baselines3.common.results_plotter import load_results, ts2xy\n",
        "from stable_baselines3.common.callbacks import BaseCallback\n",
        "from stable_baselines3.common import env_checker\n",
        "from stable_baselines3 import PPO\n",
        "from stable_baselines3.common.env_util import make_vec_env\n",
        "import warnings\n",
        "\n",
        "# warnings.filterwarnings(\"ignore\", category=UserWarning)\n",
        "import gymnasium as gym\n",
        "from gymnasium.spaces import *\n",
        "import numpy as np\n",
        "import copy\n",
        "\n",
        "# import matplotlib.pyplot as plt\n",
        "\n",
        "max_floor = 5\n",
        "max_capacity = 10\n",
        "time_per_floor = 0.0167\n",
        "time_per_person = 0.033\n",
        "stationary_cost = 0.5"
      ]
    },
    {
      "cell_type": "markdown",
      "metadata": {
        "id": "dAzuGeTpEt1G"
      },
      "source": [
        "## Passenger Generation"
      ]
    },
    {
      "cell_type": "code",
      "execution_count": 3,
      "metadata": {
        "colab": {
          "base_uri": "https://localhost:8080/"
        },
        "id": "jJQpzrvIEt1I",
        "outputId": "36eeca88-d413-4c19-9303-5b9277a5ac75"
      },
      "outputs": [
        {
          "output_type": "stream",
          "name": "stderr",
          "text": [
            "/usr/local/lib/python3.10/dist-packages/ipykernel/ipkernel.py:283: DeprecationWarning: `should_run_async` will not call `transform_cell` automatically in the future. Please pass the result to `transformed_cell` argument and any exception that happen during thetransform in `preprocessing_exc_tuple` in IPython 7.17 and above.\n",
            "  and should_run_async(code)\n"
          ]
        }
      ],
      "source": [
        "class Passenger(object):\n",
        "    def __init__(self, floor, destination, laichzeit, entry_time=0):\n",
        "        self.floor = floor\n",
        "        self.destination = destination\n",
        "        self.laichzeit = laichzeit\n",
        "        self.intent = self.floor > self.destination  # 1 for down 0 for up\n",
        "        self.entry_time = entry_time\n",
        "        # self.in_elevator = False\n",
        "\n",
        "    def __str__(self) -> str:\n",
        "        return f\"this passgner is spawned at {self.laichzeit} at floor {self.floor} trying to reach {self.destination}\""
      ]
    },
    {
      "cell_type": "markdown",
      "metadata": {
        "id": "4xOTmJsxEt1I"
      },
      "source": [
        "### Generator"
      ]
    },
    {
      "cell_type": "code",
      "execution_count": 4,
      "metadata": {
        "id": "XepY3iycEt1K"
      },
      "outputs": [],
      "source": [
        "class Rider_Generator():\n",
        "    def __init__(self, max_floor) -> None:\n",
        "        self.waiting_list = {}\n",
        "        self.total_passenger_count = 0\n",
        "\n",
        "    def prepare(\n",
        "        self,\n",
        "        sigma=60,\n",
        "        sigma2=90,\n",
        "        morning_peak_time=480,\n",
        "        lunch_volume=5 * max_capacity,\n",
        "        morning_evening_volume=10 * max_capacity,\n",
        "        lunch_peak_time_up=810,\n",
        "        evening_peak_time=1020,\n",
        "        lunch_peak_time_down=690\n",
        "    ):\n",
        "        X1 = np.random.normal(morning_peak_time, sigma, morning_evening_volume)\n",
        "        X2 = np.random.normal(lunch_peak_time_up, sigma2, lunch_volume)\n",
        "        X_up = np.concatenate([X1, X2])\n",
        "\n",
        "        X3 = np.random.normal(lunch_peak_time_down, sigma2, lunch_volume)\n",
        "        X4 = np.random.normal(evening_peak_time, sigma, morning_evening_volume)\n",
        "        X_down = np.concatenate([X3, X4])\n",
        "        return X_up, X_down\n",
        "\n",
        "    def spawn(self, X_up, X_down):\n",
        "        rng = np.random.default_rng()\n",
        "        up_floors_calls = rng.exponential(scale=5, size=X_up.shape[0]) - 1\n",
        "        up_floors_calls = np.round(up_floors_calls)  # + 1\n",
        "        up_floors_calls = np.clip(up_floors_calls, a_min=0, a_max=max_floor - 2)\n",
        "        up_floors_destinations = rng.uniform(\n",
        "            up_floors_calls, max_floor - 1, X_up.shape[0]\n",
        "        )\n",
        "        up_floors_destinations = np.clip(\n",
        "            np.round(up_floors_destinations), a_min=0, a_max=max_floor - 1\n",
        "        )\n",
        "\n",
        "        down_floors_calls = rng.exponential(scale=5, size=X_down.shape[0])\n",
        "        down_floors_calls = max_floor - np.round(down_floors_calls)\n",
        "        down_floors_calls = np.clip(down_floors_calls, a_min=1, a_max=max_floor - 1)\n",
        "        down_floors_destinations = rng.uniform(0, down_floors_calls, X_up.shape[0])\n",
        "        down_floors_destinations = np.clip(\n",
        "            np.round(down_floors_destinations), a_min=0, a_max=max_floor - 1\n",
        "        )\n",
        "\n",
        "        up_floors_calls = up_floors_calls[np.argsort(X_up)]\n",
        "        down_floors_calls = down_floors_calls[np.argsort(X_down)]\n",
        "        spawn_locations = np.concatenate((up_floors_calls, down_floors_calls))\n",
        "        up_floors_destinations = up_floors_destinations[np.argsort(X_up)]\n",
        "        down_floors_destinations = down_floors_destinations[np.argsort(X_down)]\n",
        "        destinations = np.concatenate(\n",
        "            (up_floors_destinations, down_floors_destinations)\n",
        "        )\n",
        "\n",
        "        spawn_times = np.concatenate((np.sort(X_up), np.sort(X_down)))\n",
        "        return spawn_times, spawn_locations, destinations\n",
        "\n",
        "    def assign_passengers(\n",
        "        self,\n",
        "        sigma=60,\n",
        "        sigma2=90,\n",
        "        morning_peak_time=480,\n",
        "        lunch_volume=5 * max_capacity,\n",
        "        morning_evening_volume=10 * max_capacity,\n",
        "        lunch_peak_time_up=810,\n",
        "        evening_peak_time=1020,\n",
        "        lunch_peak_time_down=690\n",
        "    ):\n",
        "        if self.total_passenger_count != 0:\n",
        "            return self.total_passenger_count, copy.deepcopy(self.waiting_list)\n",
        "        for j in range(max_floor):\n",
        "            self.waiting_list[j] = []\n",
        "        X_up, X_down = self.prepare(\n",
        "            sigma,\n",
        "            sigma2,\n",
        "            morning_peak_time,\n",
        "            lunch_volume,\n",
        "            morning_evening_volume,\n",
        "            lunch_peak_time_up,\n",
        "            evening_peak_time,\n",
        "            lunch_peak_time_down,\n",
        "        )\n",
        "        spawn_times, spawn_locations, destinations = self.spawn(X_up, X_down)\n",
        "\n",
        "        for i in range(len(spawn_locations)):\n",
        "            idx = int(spawn_locations[i])\n",
        "            passenger = Passenger(spawn_locations[i], destinations[i], spawn_times[i])\n",
        "            self.waiting_list[idx].append(passenger)\n",
        "        self.total_passenger_count = spawn_times.shape[0]\n",
        "        return self.total_passenger_count, copy.deepcopy(self.waiting_list)"
      ]
    },
    {
      "cell_type": "markdown",
      "metadata": {
        "id": "48p10ipick06"
      },
      "source": [
        "### Sample Passenger Generation"
      ]
    },
    {
      "cell_type": "code",
      "execution_count": 5,
      "metadata": {
        "id": "xLMLMdepY47m"
      },
      "outputs": [],
      "source": [
        "def plotting_peaks(Ups, Downs):\n",
        "  fig, axes = plt.subplots(nrows=1, ncols=2)\n",
        "\n",
        "  # Plot on the first subplot (left)\n",
        "  axes[0].hist(Downs, 30, density=False)\n",
        "  axes[0].set_xlabel('#th minute')\n",
        "  axes[0].set_ylabel('# of Passengers')\n",
        "  axes[0].set_title('Down Calls')\n",
        "\n",
        "  # Plot on the second subplot (right)\n",
        "  axes[1].hist(Ups, 30, density=False)\n",
        "  axes[1].set_xlabel('#th minute')\n",
        "  axes[1].set_ylabel('# of Passengers')\n",
        "  axes[1].set_title('Up Calls')"
      ]
    },
    {
      "cell_type": "code",
      "execution_count": 6,
      "metadata": {
        "colab": {
          "base_uri": "https://localhost:8080/",
          "height": 0
        },
        "id": "CMcFYmUeaCu3",
        "outputId": "01fa9697-37e9-439c-990d-282165c35ace"
      },
      "outputs": [
        {
          "output_type": "display_data",
          "data": {
            "text/plain": [
              "<Figure size 640x480 with 2 Axes>"
            ],
            "image/png": "[encoded data removed]"
          },
          "metadata": {}
        }
      ],
      "source": [
        "generator1 = Rider_Generator(max_floor)\n",
        "going_up, going_down = generator1.prepare()\n",
        "plotting_peaks(going_up, going_down)"
      ]
    },
    {
      "cell_type": "markdown",
      "metadata": {
        "id": "sn0kiAY7Et1L"
      },
      "source": [
        "## Environment"
      ]
    },
    {
      "cell_type": "code",
      "source": [
        "time_tracker = []"
      ],
      "metadata": {
        "id": "0ezTFP8v2jEC"
      },
      "execution_count": 7,
      "outputs": []
    },
    {
      "cell_type": "code",
      "execution_count": 8,
      "metadata": {
        "id": "QmoENSysEt1M"
      },
      "outputs": [],
      "source": [
        "class Environemnt(gym.Env):\n",
        "    metadata = {\"render.modes\": [\"ansi\"]}\n",
        "\n",
        "    def __init__(self, render_mode=\"ansi\"):\n",
        "        super(Environemnt, self).__init__()\n",
        "        self.total_waiting_time = 0\n",
        "        self.curr_capacity = 0\n",
        "        self.curr_floor = 0\n",
        "\n",
        "        self.step_limit = 8192\n",
        "        self.generator = Rider_Generator(max_floor)\n",
        "        self.total_passenger_count, self.waiting_list = self.generator.assign_passengers()\n",
        "        self.in_elevator_list = {}\n",
        "        for j in range(max_floor):\n",
        "            self.in_elevator_list[j] = []\n",
        "        self.action_space = Discrete(3, start=0)\n",
        "        self.observation_space = MultiDiscrete(\n",
        "            ([self.total_passenger_count] * (-2 + max_floor * 2))\n",
        "            + [max_capacity + 1, max_capacity + 1, max_floor]\n",
        "        )\n",
        "        self.timer = 450\n",
        "        for floor in self.waiting_list:\n",
        "          for p in self.waiting_list[floor]:\n",
        "            if p.laichzeit < self.timer:\n",
        "              self.timer = p.laichzeit\n",
        "\n",
        "    def load_passengers(self):\n",
        "        reward = 0\n",
        "        passengers_list = self.waiting_list[self.curr_floor]\n",
        "        loaded = []\n",
        "        waiting_times = 0\n",
        "        for idx in range(len(passengers_list)):\n",
        "            if self.curr_capacity >= max_capacity:\n",
        "                break\n",
        "            else:\n",
        "                p = passengers_list[idx]\n",
        "                waiting_time = self.timer - p.laichzeit\n",
        "                if waiting_time > 0:\n",
        "                    self.timer += time_per_person\n",
        "                    self.curr_capacity += 1\n",
        "                    p.entry_time = self.timer\n",
        "                    self.in_elevator_list[p.destination].append(p)\n",
        "                    loaded.append(idx)\n",
        "                    reward += 50\n",
        "                    waiting_times += waiting_time\n",
        "                    if waiting_time > 5:\n",
        "                      reward -= waiting_time\n",
        "\n",
        "        loaded = sorted(loaded, reverse=True)\n",
        "        for l in loaded:\n",
        "            self.waiting_list[self.curr_floor].pop(l)\n",
        "\n",
        "        return reward, waiting_times\n",
        "\n",
        "    def offload_passengers(self):\n",
        "        off_board = self.in_elevator_list[self.curr_floor]\n",
        "        reward = len(off_board) * 50\n",
        "        self.curr_capacity -= len(off_board)\n",
        "        for i in off_board:\n",
        "            self.timer += time_per_person\n",
        "            # if self.timer - i.entry_time > stationary_cost * max_floor:\n",
        "            #   reward -= int(self.timer - i.entry_time)\n",
        "            # reward =\n",
        "        self.in_elevator_list[self.curr_floor] = []\n",
        "        return reward\n",
        "\n",
        "    # More work here\n",
        "    def step(self, action):\n",
        "        reward = 0\n",
        "        # if self.total_waiting_time > 0.5*self.total_passenger_count:\n",
        "        if self.total_waiting_time > self.total_passenger_count:\n",
        "          reward -= 50\n",
        "\n",
        "        if action == 0:\n",
        "            self.timer += stationary_cost\n",
        "            offload_reward = self.offload_passengers()\n",
        "            loading_reward, current_wait_times= self.load_passengers()\n",
        "            reward += loading_reward + offload_reward\n",
        "            self.total_waiting_time += current_wait_times\n",
        "\n",
        "        if action == 1:\n",
        "            if self.curr_floor == max_floor - 1:\n",
        "                reward -= 50\n",
        "                self.timer += stationary_cost\n",
        "            else:\n",
        "                self.timer += time_per_floor\n",
        "                self.curr_floor += 1\n",
        "\n",
        "        if action == 2:\n",
        "            if self.curr_floor == 0:\n",
        "                reward -= 50\n",
        "                self.timer += stationary_cost\n",
        "            else:\n",
        "                self.timer += time_per_floor\n",
        "                self.curr_floor -= 1\n",
        "\n",
        "        truncated = False\n",
        "        self.step_limit -= 1\n",
        "        info, terminated, observation = self.get_state()\n",
        "        if self.step_limit == 0:\n",
        "            truncated = True\n",
        "            terminated = True\n",
        "        if terminated:\n",
        "          time_tracker.append(info[\"Average_waiting_time\"])\n",
        "        return observation, float(reward), terminated, truncated, info\n",
        "\n",
        "    # calculated penalty here\n",
        "    # get destination for inelevator people\n",
        "    def get_state(self):\n",
        "        passenger_count = 0\n",
        "        global_state = np.zeros(len(self.waiting_list.keys()) * 2 + 1, dtype=int)\n",
        "        for i in self.waiting_list.keys():\n",
        "            for passenger in self.waiting_list[i]:\n",
        "                if passenger.laichzeit <= self.timer:\n",
        "                    global_state[2 * i - passenger.intent] += 1\n",
        "            passenger_count += len(self.waiting_list[i])\n",
        "        ups, downs = 0, 0\n",
        "        for j in self.in_elevator_list.keys():\n",
        "            for p in self.in_elevator_list[j]:\n",
        "                if p.destination < self.curr_floor:\n",
        "                    downs += 1\n",
        "                else:\n",
        "                    ups += 1\n",
        "\n",
        "        global_state[-3] = ups\n",
        "        global_state[-2] = downs\n",
        "        global_state[-1] = self.curr_floor\n",
        "\n",
        "        info = {\"Average_waiting_time\": self.total_waiting_time / max(1, self.total_passenger_count - passenger_count)}\n",
        "        is_done = (passenger_count == 0 and self.curr_capacity == 0)\n",
        "\n",
        "        if passenger_count != 0:\n",
        "          next_time_jump = float(\"inf\")\n",
        "          for f in self.waiting_list:\n",
        "            for p in self.waiting_list[f]:\n",
        "              if p.laichzeit < next_time_jump:\n",
        "                next_time_jump = p.laichzeit\n",
        "          if next_time_jump > self.timer:\n",
        "            self.timer = next_time_jump\n",
        "\n",
        "        return info, is_done, global_state\n",
        "\n",
        "    def reset(self, seed=None, options=None):\n",
        "        super().reset(seed=seed)\n",
        "        self.curr_capacity = 0\n",
        "        self.curr_floor = 0\n",
        "        self.total_waiting_time = 0\n",
        "\n",
        "        for j in self.in_elevator_list.keys():\n",
        "            self.in_elevator_list[j] = []\n",
        "        self.total_passenger_count, self.waiting_list= self.generator.assign_passengers()\n",
        "        self.timer = 450\n",
        "        for floor in self.waiting_list:\n",
        "          for p in self.waiting_list[floor]:\n",
        "            if p.laichzeit < self.timer:\n",
        "              self.timer = p.laichzeit\n",
        "        self.step_limit = 8192\n",
        "        info, _, obs = self.get_state()\n",
        "        return obs, info\n",
        "\n",
        "    def render(self, mode=\"ansi\", close=False):\n",
        "        \"\"\"\n",
        "        Inspired from\n",
        "        https://github.com/saykim/elevator-reinforcementlearning-application/blob/master/environment/Building.py\n",
        "        \"\"\"\n",
        "\n",
        "        for floor in range(max_floor - 1, -1, -1):\n",
        "            print(\"=========================\")\n",
        "            print(f\"=     Floor {floor}    =\", end=' ')\n",
        "            if self.curr_floor == floor:\n",
        "              print(\"  Lift  \", end=' ')\n",
        "            else:\n",
        "              print(\"         \", end=' ')\n",
        "            print(\" \")\n",
        "            if self.curr_floor == floor:\n",
        "              print(f\"    in elevator: {self.curr_capacity}   \", end=' ')\n",
        "            else:\n",
        "              print(\"          \", end=' ')\n",
        "            print(\" \")\n",
        "            print(f\"=    remaining: {len(self.waiting_list[floor])}    =\")\n",
        "        print(\"=========================\")\n",
        "        print(\"\\n\\n\\n\")\n",
        "        # print(\"People to move: %d \"%(self.remain_passengers_num - len(self.floors_information[0])))\n",
        "        # print(\"Total # of people: %d\"%self.total)"
      ]
    },
    {
      "cell_type": "markdown",
      "metadata": {
        "id": "4gRbSxyZEt1N"
      },
      "source": [
        "### Environemnt Check"
      ]
    },
    {
      "cell_type": "code",
      "execution_count": 9,
      "metadata": {
        "id": "kZzAGpV6Et1N"
      },
      "outputs": [],
      "source": [
        "log_dir = \"/content/elevator/\"\n",
        "os.makedirs(log_dir, exist_ok=True)\n",
        "\n",
        "building = Environemnt()\n",
        "env_checker.check_env(building, True, True)\n",
        "building = Monitor(building, log_dir)"
      ]
    },
    {
      "cell_type": "markdown",
      "metadata": {
        "id": "J8jjMP40Hmqh"
      },
      "source": [
        "## Training"
      ]
    },
    {
      "cell_type": "markdown",
      "metadata": {
        "id": "vQqoL-U_HOgn"
      },
      "source": [
        "### Call back for saving the best model in terms of reward"
      ]
    },
    {
      "cell_type": "code",
      "execution_count": 10,
      "metadata": {
        "id": "3pvIknF6Ggis"
      },
      "outputs": [],
      "source": [
        "\"\"\"\n",
        "Copied from: https://colab.research.google.com/github/Stable-Baselines-Team/rl-colab-notebooks/blob/sb3/monitor_training.ipynb#scrollTo=pUWGZp3i9wyf\n",
        "\"\"\"\n",
        "class SaveOnBestTrainingRewardCallback(BaseCallback):\n",
        "    \"\"\"\n",
        "    Callback for saving a model (the check is done every ``check_freq`` steps)\n",
        "    based on the training reward (in practice, we recommend using ``EvalCallback``).\n",
        "\n",
        "    :param check_freq: (int)\n",
        "    :param log_dir: (str) Path to the folder where the model will be saved.\n",
        "      It must contains the file created by the ``Monitor`` wrapper.\n",
        "    :param verbose: (int)\n",
        "    \"\"\"\n",
        "\n",
        "    def __init__(self, check_freq: int, log_dir: str, verbose=1):\n",
        "        super().__init__(verbose)\n",
        "        self.check_freq = check_freq\n",
        "        self.log_dir = log_dir\n",
        "        self.save_path = os.path.join(log_dir, \"best_model\")\n",
        "        self.best_mean_reward = -np.inf\n",
        "\n",
        "    def _init_callback(self) -> None:\n",
        "        # Create folder if needed\n",
        "        if self.save_path is not None:\n",
        "            os.makedirs(self.save_path, exist_ok=True)\n",
        "\n",
        "    def _on_step(self) -> bool:\n",
        "        if self.n_calls % self.check_freq == 0:\n",
        "\n",
        "            # Retrieve training reward\n",
        "            x, y = ts2xy(load_results(self.log_dir), \"timesteps\")\n",
        "            if len(x) > 0:\n",
        "                # Mean training reward over the last 100 episodes\n",
        "                mean_reward = np.mean(y[-100:])\n",
        "                if self.verbose > 0:\n",
        "                    print(f\"Num timesteps: {self.num_timesteps}\")\n",
        "                    print(\n",
        "                        f\"Best mean reward: {self.best_mean_reward:.2f} - Last mean reward per episode: {mean_reward:.2f}\"\n",
        "                    )\n",
        "\n",
        "                # New best model, you could save the agent here\n",
        "                if mean_reward > self.best_mean_reward:\n",
        "                    self.best_mean_reward = mean_reward\n",
        "                    # Example for saving best model\n",
        "                    if self.verbose > 0:\n",
        "                        print(f\"Saving new best model to {self.save_path}.zip\")\n",
        "                    self.model.save(self.save_path)\n",
        "\n",
        "        return True"
      ]
    },
    {
      "cell_type": "markdown",
      "metadata": {
        "id": "TRjYZ9ByIk-q"
      },
      "source": [
        "### Start Training"
      ]
    },
    {
      "cell_type": "code",
      "execution_count": 11,
      "metadata": {
        "colab": {
          "base_uri": "https://localhost:8080/"
        },
        "id": "Ch4wXB6IEt1N",
        "outputId": "0bfdbb57-e763-4eca-c659-6c7425a604ce"
      },
      "outputs": [
        {
          "output_type": "stream",
          "name": "stdout",
          "text": [
            "Using cpu device\n",
            "Wrapping the env in a DummyVecEnv.\n"
          ]
        },
        {
          "output_type": "execute_result",
          "data": {
            "text/plain": [
              "<stable_baselines3.ppo.ppo.PPO at 0x7d87c93e4a60>"
            ]
          },
          "metadata": {},
          "execution_count": 11
        }
      ],
      "source": [
        "from stable_baselines3.common.logger import configure\n",
        "\n",
        "building.reset()\n",
        "time_tracker = []\n",
        "policy_kwargs = dict(\n",
        "    activation_fn=torch.nn.ReLU,\n",
        "    net_arch=dict(pi=[64, 32], vf=[64, 32]),\n",
        "    share_features_extractor=False,\n",
        ")\n",
        "callback = SaveOnBestTrainingRewardCallback(check_freq=1000, log_dir=log_dir, verbose=0)\n",
        "logger = configure(log_dir, [\"json\", \"csv\"])\n",
        "\n",
        "model = PPO(\n",
        "    \"MlpPolicy\",\n",
        "    building,\n",
        "    clip_range=0.2,\n",
        "    clip_range_vf=0.05,\n",
        "    gae_lambda=0.7,\n",
        "    policy_kwargs=policy_kwargs,\n",
        "    verbose=1\n",
        ")\n",
        "model.set_logger(logger)\n",
        "model.learn(total_timesteps=40960, callback=callback)"
      ]
    },
    {
      "cell_type": "markdown",
      "metadata": {
        "id": "4R6IQW8wIv06"
      },
      "source": [
        "## Visualization"
      ]
    },
    {
      "cell_type": "code",
      "execution_count": 12,
      "metadata": {
        "colab": {
          "base_uri": "https://localhost:8080/",
          "height": 263
        },
        "id": "LhImwKnaOZv9",
        "outputId": "458a752d-67de-4a31-e6fc-e97164236d1b"
      },
      "outputs": [
        {
          "output_type": "stream",
          "name": "stderr",
          "text": [
            "/usr/local/lib/python3.10/dist-packages/ipykernel/ipkernel.py:283: DeprecationWarning: `should_run_async` will not call `transform_cell` automatically in the future. Please pass the result to `transformed_cell` argument and any exception that happen during thetransform in `preprocessing_exc_tuple` in IPython 7.17 and above.\n",
            "  and should_run_async(code)\n"
          ]
        },
        {
          "output_type": "display_data",
          "data": {
            "text/plain": [
              "<Figure size 800x200 with 1 Axes>"
            ],
            "image/png": "[encoded data removed]"
          },
          "metadata": {}
        }
      ],
      "source": [
        "from stable_baselines3.common import results_plotter\n",
        "\n",
        "# Helper from the library\n",
        "results_plotter.plot_results(\n",
        "    [log_dir], 1e5, results_plotter.X_TIMESTEPS, \"Elevator Dispatching PPO\"\n",
        ")"
      ]
    },
    {
      "cell_type": "code",
      "source": [
        "plt.plot(range(len(time_tracker)),time_tracker)\n",
        "plt.xlabel('episode #')\n",
        "plt.ylabel('min')\n",
        "\n",
        "# displaying the title\n",
        "plt.title(\"Average waiting time per episode\")"
      ],
      "metadata": {
        "colab": {
          "base_uri": "https://localhost:8080/",
          "height": 545
        },
        "id": "ogqmzOwo5TM5",
        "outputId": "7d3906f3-b916-47c5-fea7-0a6851e50ee9"
      },
      "execution_count": 13,
      "outputs": [
        {
          "output_type": "stream",
          "name": "stderr",
          "text": [
            "/usr/local/lib/python3.10/dist-packages/ipykernel/ipkernel.py:283: DeprecationWarning: `should_run_async` will not call `transform_cell` automatically in the future. Please pass the result to `transformed_cell` argument and any exception that happen during thetransform in `preprocessing_exc_tuple` in IPython 7.17 and above.\n",
            "  and should_run_async(code)\n"
          ]
        },
        {
          "output_type": "execute_result",
          "data": {
            "text/plain": [
              "Text(0.5, 1.0, 'Average waiting time per episode')"
            ]
          },
          "metadata": {},
          "execution_count": 13
        },
        {
          "output_type": "display_data",
          "data": {
            "text/plain": [
              "<Figure size 640x480 with 1 Axes>"
            ],
            "image/png": "[encoded data removed]"
          },
          "metadata": {}
        }
      ]
    },
    {
      "cell_type": "markdown",
      "source": [
        "Rendering Demo"
      ],
      "metadata": {
        "id": "4C5PR47ViJ0q"
      }
    },
    {
      "cell_type": "code",
      "source": [
        "import time\n",
        "obs, _ = building.reset()\n",
        "done, state = False, None\n",
        "episode_reward = 0.0\n",
        "episode_length = 0\n",
        "while not done:\n",
        "  action, state = model.predict(obs, state=state, deterministic=True)\n",
        "  obs, reward, done, truncated, info = building.step(action)\n",
        "  episode_reward += reward\n",
        "  episode_length += 1\n",
        "  building.render()\n",
        "  time.sleep(0.1)"
      ],
      "metadata": {
        "id": "y7mKrSC_anuW"
      },
      "execution_count": null,
      "outputs": []
    }
  ],
  "metadata": {
    "colab": {
      "collapsed_sections": [
        "qS8W9SOvH5Go",
        "dAzuGeTpEt1G",
        "4xOTmJsxEt1I",
        "48p10ipick06",
        "vQqoL-U_HOgn"
      ],
      "provenance": []
    },
    "kernelspec": {
      "display_name": "Python 3",
      "name": "python3"
    },
    "language_info": {
      "codemirror_mode": {
        "name": "ipython",
        "version": 3
      },
      "file_extension": ".py",
      "mimetype": "text/x-python",
      "name": "python",
      "nbconvert_exporter": "python",
      "pygments_lexer": "ipython3",
      "version": "3.9.17"
    }
  },
  "nbformat": 4,
  "nbformat_minor": 0
}