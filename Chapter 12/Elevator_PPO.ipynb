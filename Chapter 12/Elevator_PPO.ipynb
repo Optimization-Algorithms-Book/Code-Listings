{
  "cells": [
    {
      "cell_type": "markdown",
      "source": [
        "## Setup"
      ],
      "metadata": {
        "id": "qS8W9SOvH5Go"
      }
    },
    {
      "cell_type": "code",
      "source": [
        "!apt-get update && apt-get install swig cmake\n",
        "!pip install box2d-py\n",
        "!pip install \"stable-baselines3[extra]>=2.0.0a4\""
      ],
      "metadata": {
        "id": "4Svq9sh6E0iL"
      },
      "execution_count": null,
      "outputs": []
    },
    {
      "cell_type": "code",
      "execution_count": null,
      "metadata": {
        "id": "ETFxu3QxlKa1",
        "colab": {
          "base_uri": "https://localhost:8080/"
        },
        "outputId": "45ef95de-ec89-4250-b30a-54a36c99a4f6"
      },
      "outputs": [
        {
          "output_type": "stream",
          "name": "stderr",
          "text": [
            "/usr/local/lib/python3.10/dist-packages/torch/utils/tensorboard/__init__.py:4: DeprecationWarning: distutils Version classes are deprecated. Use packaging.version instead.\n",
            "  if not hasattr(tensorboard, \"__version__\") or LooseVersion(\n"
          ]
        }
      ],
      "source": [
        "import torch\n",
        "import os\n",
        "\n",
        "import gymnasium as gym\n",
        "import numpy as np\n",
        "import matplotlib.pyplot as plt\n",
        "\n",
        "from stable_baselines3.common.monitor import Monitor\n",
        "from stable_baselines3.common.results_plotter import load_results, ts2xy\n",
        "from stable_baselines3.common.callbacks import BaseCallback\n",
        "from stable_baselines3.common import env_checker\n",
        "from stable_baselines3 import PPO\n",
        "from stable_baselines3.common.env_util import make_vec_env\n",
        "import warnings\n",
        "\n",
        "# warnings.filterwarnings(\"ignore\", category=UserWarning)\n",
        "import gymnasium as gym\n",
        "from gymnasium.spaces import *\n",
        "import numpy as np\n",
        "import copy\n",
        "\n",
        "# import matplotlib.pyplot as plt\n",
        "\n",
        "max_floor = 5\n",
        "max_capacity = 10\n",
        "time_per_floor = 0.0167\n",
        "time_per_person = 0.033\n",
        "stationary_cost = 0.5"
      ]
    },
    {
      "cell_type": "markdown",
      "metadata": {
        "id": "dAzuGeTpEt1G"
      },
      "source": [
        "## Passenger Generation"
      ]
    },
    {
      "cell_type": "code",
      "execution_count": null,
      "metadata": {
        "id": "jJQpzrvIEt1I"
      },
      "outputs": [],
      "source": [
        "class Passenger(object):\n",
        "    def __init__(self, floor, destination, laichzeit):\n",
        "        self.floor = floor\n",
        "        self.destination = destination\n",
        "        self.laichzeit = laichzeit\n",
        "        self.intent = self.floor > self.destination  # 1 for down 0 for up\n",
        "        self.entry_time = laichzeit\n",
        "        # self.in_elevator = False\n",
        "\n",
        "    def __str__(self) -> str:\n",
        "        return f\"this passgner is spawned at {self.laichzeit} at floor {self.floor} trying to reach {self.destination}\""
      ]
    },
    {
      "cell_type": "markdown",
      "metadata": {
        "id": "4xOTmJsxEt1I"
      },
      "source": [
        "### Generator"
      ]
    },
    {
      "cell_type": "code",
      "execution_count": null,
      "metadata": {
        "id": "XepY3iycEt1K"
      },
      "outputs": [],
      "source": [
        "class Rider_Generator():\n",
        "    def __init__(self, max_floor) -> None:\n",
        "        self.waiting_list = {}\n",
        "        self.total_passenger_count = 0\n",
        "\n",
        "    def prepare(\n",
        "        self,\n",
        "        sigma=60,\n",
        "        sigma2=90,\n",
        "        morning_peak_time=480,\n",
        "        lunch_volume=5 * max_capacity,\n",
        "        morning_evening_volume=10 * max_capacity,\n",
        "        lunch_peak_time_up=810,\n",
        "        evening_peak_time=1020,\n",
        "        lunch_peak_time_down=690\n",
        "    ):\n",
        "        X1 = np.random.normal(morning_peak_time, sigma, morning_evening_volume)\n",
        "        X2 = np.random.normal(lunch_peak_time_up, sigma2, lunch_volume)\n",
        "        X_up = np.concatenate([X1, X2])\n",
        "\n",
        "        X3 = np.random.normal(lunch_peak_time_down, sigma2, lunch_volume)\n",
        "        X4 = np.random.normal(evening_peak_time, sigma, morning_evening_volume)\n",
        "        X_down = np.concatenate([X3, X4])\n",
        "        return X_up, X_down\n",
        "\n",
        "    def spawn(self, X_up, X_down):\n",
        "        rng = np.random.default_rng()\n",
        "        up_floors_calls = rng.exponential(scale=5, size=X_up.shape[0]) - 1\n",
        "        up_floors_calls = np.round(up_floors_calls)  # + 1\n",
        "        up_floors_calls = np.clip(up_floors_calls, a_min=0, a_max=max_floor - 2)\n",
        "        up_floors_destinations = rng.uniform(\n",
        "            up_floors_calls, max_floor - 1, X_up.shape[0]\n",
        "        )\n",
        "        up_floors_destinations = np.clip(\n",
        "            np.round(up_floors_destinations), a_min=0, a_max=max_floor - 1\n",
        "        )\n",
        "\n",
        "        down_floors_calls = rng.exponential(scale=5, size=X_down.shape[0])\n",
        "        down_floors_calls = max_floor - np.round(down_floors_calls)\n",
        "        down_floors_calls = np.clip(down_floors_calls, a_min=1, a_max=max_floor - 1)\n",
        "        down_floors_destinations = rng.uniform(0, down_floors_calls, X_up.shape[0])\n",
        "        down_floors_destinations = np.clip(\n",
        "            np.round(down_floors_destinations), a_min=0, a_max=max_floor - 1\n",
        "        )\n",
        "\n",
        "        up_floors_calls = up_floors_calls[np.argsort(X_up)]\n",
        "        down_floors_calls = down_floors_calls[np.argsort(X_down)]\n",
        "        spawn_locations = np.concatenate((up_floors_calls, down_floors_calls))\n",
        "        up_floors_destinations = up_floors_destinations[np.argsort(X_up)]\n",
        "        down_floors_destinations = down_floors_destinations[np.argsort(X_down)]\n",
        "        destinations = np.concatenate(\n",
        "            (up_floors_destinations, down_floors_destinations)\n",
        "        )\n",
        "\n",
        "        spawn_times = np.concatenate((np.sort(X_up), np.sort(X_down)))\n",
        "        return spawn_times, spawn_locations, destinations\n",
        "\n",
        "    def assign_passengers(\n",
        "        self,\n",
        "        sigma=60,\n",
        "        sigma2=90,\n",
        "        morning_peak_time=480,\n",
        "        lunch_volume=5 * max_capacity,\n",
        "        morning_evening_volume=10 * max_capacity,\n",
        "        lunch_peak_time_up=810,\n",
        "        evening_peak_time=1020,\n",
        "        lunch_peak_time_down=690\n",
        "    ):\n",
        "        if self.total_passenger_count != 0:\n",
        "            return self.total_passenger_count, copy.deepcopy(self.waiting_list)\n",
        "        for j in range(max_floor):\n",
        "            self.waiting_list[j] = []\n",
        "        X_up, X_down = self.prepare(\n",
        "            sigma,\n",
        "            sigma2,\n",
        "            morning_peak_time,\n",
        "            lunch_volume,\n",
        "            morning_evening_volume,\n",
        "            lunch_peak_time_up,\n",
        "            evening_peak_time,\n",
        "            lunch_peak_time_down,\n",
        "        )\n",
        "        spawn_times, spawn_locations, destinations = self.spawn(X_up, X_down)\n",
        "\n",
        "        for i in range(len(spawn_locations)):\n",
        "            idx = int(spawn_locations[i])\n",
        "            passenger = Passenger(spawn_locations[i], destinations[i], spawn_times[i])\n",
        "            self.waiting_list[idx].append(passenger)\n",
        "        self.total_passenger_count = spawn_times.shape[0]\n",
        "        return self.total_passenger_count, copy.deepcopy(self.waiting_list)"
      ]
    },
    {
      "cell_type": "markdown",
      "source": [
        "## Sample Passenger Generation"
      ],
      "metadata": {
        "id": "48p10ipick06"
      }
    },
    {
      "cell_type": "code",
      "source": [
        "def plotting_peaks(Ups, Downs):\n",
        "  fig, axes = plt.subplots(nrows=1, ncols=2)\n",
        "\n",
        "  # Plot on the first subplot (left)\n",
        "  axes[0].hist(Downs, 30, density=False)\n",
        "  axes[0].set_xlabel('#th minute')\n",
        "  axes[0].set_ylabel('# of Passengers')\n",
        "  axes[0].set_title('Down Calls')\n",
        "\n",
        "  # Plot on the second subplot (right)\n",
        "  axes[1].hist(Ups, 30, density=False)\n",
        "  axes[1].set_xlabel('#th minute')\n",
        "  axes[1].set_ylabel('# of Passengers')\n",
        "  axes[1].set_title('Up Calls')"
      ],
      "metadata": {
        "id": "xLMLMdepY47m"
      },
      "execution_count": null,
      "outputs": []
    },
    {
      "cell_type": "code",
      "source": [
        "generator1 = Rider_Generator(max_floor)\n",
        "going_up, going_down = generator1.prepare()\n",
        "plotting_peaks(going_up, going_down)"
      ],
      "metadata": {
        "colab": {
          "base_uri": "https://localhost:8080/",
          "height": 472
        },
        "id": "CMcFYmUeaCu3",
        "outputId": "5d196357-9d96-4682-c486-d2634759d68d"
      },
      "execution_count": null,
      "outputs": [
        {
          "output_type": "display_data",
          "data": {
            "text/plain": [
              "<Figure size 640x480 with 2 Axes>"
            ],
            "image/png": "[encoded data removed]"
          },
          "metadata": {}
        }
      ]
    },
    {
      "cell_type": "markdown",
      "metadata": {
        "id": "sn0kiAY7Et1L"
      },
      "source": [
        "## Environment"
      ]
    },
    {
      "cell_type": "code",
      "execution_count": null,
      "metadata": {
        "id": "QmoENSysEt1M"
      },
      "outputs": [],
      "source": [
        "class Environemnt(gym.Env):\n",
        "    metadata = {\"render.modes\": [\"human\"]}\n",
        "\n",
        "    def __init__(self):\n",
        "        super(Environemnt, self).__init__()\n",
        "        self.total_waiting_time = 0\n",
        "        self.curr_capacity = 0\n",
        "        self.curr_floor = 0\n",
        "        self.timer = 450\n",
        "        self.step_limit = 8192\n",
        "        self.generator = Rider_Generator(max_floor)\n",
        "        self.total_passenger_count, self.waiting_list = self.generator.assign_passengers()\n",
        "        self.in_elevator_list = {}\n",
        "        for j in range(max_floor):\n",
        "            self.in_elevator_list[j] = []\n",
        "        self.action_space = Discrete(3, start=0)\n",
        "        self.observation_space = MultiDiscrete(\n",
        "            ([self.total_passenger_count] * (-2 + max_floor * 2))\n",
        "            + [max_capacity + 1, max_capacity + 1, max_floor]\n",
        "        )\n",
        "\n",
        "    def load_passengers(self):\n",
        "        reward = 0\n",
        "        passengers_list = self.waiting_list[self.curr_floor]\n",
        "        loaded = []\n",
        "        for idx in range(len(passengers_list)):\n",
        "            if self.curr_capacity >= max_capacity:\n",
        "                break\n",
        "            else:\n",
        "                p = passengers_list[idx]\n",
        "                if self.timer > p.laichzeit:\n",
        "                    self.timer += time_per_person\n",
        "                    self.curr_capacity += 1\n",
        "                    self.in_elevator_list[p.destination].append(p)\n",
        "                    loaded.append(idx)\n",
        "                    reward += 50\n",
        "                    if self.timer - p.laichzeit > 1:\n",
        "                        reward -= int(self.timer - p.laichzeit)\n",
        "\n",
        "        loaded = sorted(loaded, reverse=True)\n",
        "        for l in loaded:\n",
        "            self.waiting_list[self.curr_floor].pop(l)\n",
        "        return reward\n",
        "\n",
        "    def offload_passengers(self):\n",
        "        off_board = self.in_elevator_list[self.curr_floor]\n",
        "        reward = len(off_board)\n",
        "        self.curr_capacity -= reward\n",
        "        for i in off_board:\n",
        "            self.timer += time_per_floor\n",
        "        self.in_elevator_list[self.curr_floor] = []\n",
        "        return reward * 50\n",
        "\n",
        "    # More work here\n",
        "    def step(self, action):\n",
        "        reward = -5\n",
        "        if action == 0:\n",
        "            self.timer += stationary_cost\n",
        "            self.total_waiting_time += self.offload_passengers()\n",
        "            reward += self.load_passengers()\n",
        "\n",
        "        if action == 1:\n",
        "            if self.curr_floor == max_floor - 1:\n",
        "                reward -= 50\n",
        "                self.timer += stationary_cost\n",
        "            else:\n",
        "                self.timer += time_per_floor\n",
        "                self.curr_floor += 1\n",
        "\n",
        "        if action == 2:\n",
        "            if self.curr_floor == 0:\n",
        "                reward -= 50\n",
        "                self.timer += stationary_cost\n",
        "            else:\n",
        "                self.timer += time_per_floor\n",
        "                self.curr_floor -= 1\n",
        "\n",
        "        truncated = False\n",
        "        self.step_limit -= 1\n",
        "        info, terminated, observation = self.get_state()\n",
        "        # if terminated:\n",
        "        #     reward += 10000\n",
        "        if self.step_limit == 0:\n",
        "            truncated = True\n",
        "            terminated = True\n",
        "            # reward -= 10000\n",
        "        return observation, float(reward), terminated, truncated, info\n",
        "\n",
        "    # calculated penalty here\n",
        "    # get destination for inelevator people\n",
        "    def get_state(self):\n",
        "        passenger_count = 0\n",
        "        reward = 0\n",
        "        global_state = np.zeros(len(self.waiting_list.keys()) * 2 + 1, dtype=int)\n",
        "        for i in self.waiting_list.keys():\n",
        "            for passenger in self.waiting_list[i]:\n",
        "                if passenger.laichzeit < self.timer:\n",
        "                    global_state[2 * i - passenger.intent] += 1\n",
        "            passenger_count += len(self.waiting_list[i])\n",
        "        ups, downs = 0, 0\n",
        "        for j in self.in_elevator_list.keys():\n",
        "            for p in self.in_elevator_list[j]:\n",
        "                if p.destination < self.curr_floor:\n",
        "                    downs += 1\n",
        "                else:\n",
        "                    ups += 1\n",
        "\n",
        "        global_state[-3] = ups\n",
        "        global_state[-2] = downs\n",
        "        global_state[-1] = self.curr_floor\n",
        "\n",
        "        info = {\"Cumulative travel time\": self.total_waiting_time}\n",
        "        is_done = passenger_count == 0 and self.curr_capacity == 0\n",
        "        return info, is_done, global_state\n",
        "\n",
        "    def reset(self, seed=None, options=None):\n",
        "        super().reset(seed=seed)\n",
        "        self.curr_capacity = 0\n",
        "        self.curr_floor = 0\n",
        "        self.timer = 450\n",
        "        self.total_waiting_time = 0\n",
        "\n",
        "        for j in self.in_elevator_list.keys():\n",
        "            self.in_elevator_list[j] = []\n",
        "        (\n",
        "            self.total_passenger_count,\n",
        "            self.waiting_list,\n",
        "        ) = self.generator.assign_passengers()\n",
        "        self.step_limit = 8192\n",
        "        info, _, obs = self.get_state()\n",
        "        return obs, info\n",
        "\n",
        "    def render(self, mode=\"human\", close=False):\n",
        "        \"\"\"\n",
        "        Copied from\n",
        "        https://github.com/saykim/elevator-reinforcementlearning-application/blob/master/environment/Building.py\n",
        "        \"\"\"\n",
        "        for idx in reversed(list(range(1,self.max_floor))):\n",
        "            print(\"=======================================================\")\n",
        "            print(\"= Floor #%02d =\"%idx, end=' ')\n",
        "            for e in self.elevators:\n",
        "                if e.curr_floor == idx:\n",
        "                    print(\"  Lift #%d\"%e.idx, end=' ')\n",
        "                else:\n",
        "                    print(\"         \", end=' ')\n",
        "            print(\" \")\n",
        "            print(\"=  Waiting  =\", end=' ')\n",
        "            for e in self.elevators:\n",
        "                if e.curr_floor == idx:\n",
        "                    print(\"    %02d   \"%len(e.curr_passengers_in_elv), end=' ')\n",
        "                else:\n",
        "                    print(\"          \", end=' ')\n",
        "            print(\" \")\n",
        "            print(\"=    %03d    =\"%len(self.floors_information[idx]))\n",
        "        print(\"=======================================================\")\n",
        "        print(\"= Floor #00 =\", end=' ')\n",
        "        for e in self.elevators:\n",
        "            if e.curr_floor == 0:\n",
        "                print(\"  Lift #%d\"%e.idx, end=' ')\n",
        "            else:\n",
        "                print(\"         \", end=' ')\n",
        "        print(\" \")\n",
        "        print(\"=  Arrived  =\", end=' ')\n",
        "        for e in self.elevators:\n",
        "            if e.curr_floor == 0:\n",
        "                print(\"    %02d   \"%len(e.curr_passengers_in_elv), end=' ')\n",
        "            else:\n",
        "                print(\"          \", end=' ')\n",
        "        print(\" \")\n",
        "        print(\"=    %03d    =\"%len(self.floors_information[0]))\n",
        "        print(\"=======================================================\")\n",
        "        print(\"\")\n",
        "        print(\"People to move: %d \"%(self.remain_passengers_num - len(self.floors_information[0])))\n",
        "        print(\"Total # of people: %d\"%self.remain_passengers_num)\n",
        "        print('state : ',self.get_state())"
      ]
    },
    {
      "cell_type": "markdown",
      "metadata": {
        "id": "4gRbSxyZEt1N"
      },
      "source": [
        "### Environemnt Check"
      ]
    },
    {
      "cell_type": "code",
      "execution_count": null,
      "metadata": {
        "id": "kZzAGpV6Et1N"
      },
      "outputs": [],
      "source": [
        "log_dir = \"/content/elevator/\"\n",
        "os.makedirs(log_dir, exist_ok=True)\n",
        "\n",
        "building = Environemnt()\n",
        "env_checker.check_env(building, True, True)\n",
        "building = Monitor(building, log_dir)"
      ]
    },
    {
      "cell_type": "markdown",
      "source": [
        "## Training"
      ],
      "metadata": {
        "id": "J8jjMP40Hmqh"
      }
    },
    {
      "cell_type": "markdown",
      "source": [
        "### Call back for saving the best model in terms of reward"
      ],
      "metadata": {
        "id": "vQqoL-U_HOgn"
      }
    },
    {
      "cell_type": "code",
      "source": [
        "class SaveOnBestTrainingRewardCallback(BaseCallback):\n",
        "    \"\"\"\n",
        "    Callback for saving a model (the check is done every ``check_freq`` steps)\n",
        "    based on the training reward (in practice, we recommend using ``EvalCallback``).\n",
        "\n",
        "    :param check_freq: (int)\n",
        "    :param log_dir: (str) Path to the folder where the model will be saved.\n",
        "      It must contains the file created by the ``Monitor`` wrapper.\n",
        "    :param verbose: (int)\n",
        "    \"\"\"\n",
        "\n",
        "    def __init__(self, check_freq: int, log_dir: str, verbose=1):\n",
        "        super().__init__(verbose)\n",
        "        self.check_freq = check_freq\n",
        "        self.log_dir = log_dir\n",
        "        self.save_path = os.path.join(log_dir, \"best_model\")\n",
        "        self.best_mean_reward = -np.inf\n",
        "\n",
        "    def _init_callback(self) -> None:\n",
        "        # Create folder if needed\n",
        "        if self.save_path is not None:\n",
        "            os.makedirs(self.save_path, exist_ok=True)\n",
        "\n",
        "    def _on_step(self) -> bool:\n",
        "        if self.n_calls % self.check_freq == 0:\n",
        "\n",
        "            # Retrieve training reward\n",
        "            x, y = ts2xy(load_results(self.log_dir), \"timesteps\")\n",
        "            if len(x) > 0:\n",
        "                # Mean training reward over the last 100 episodes\n",
        "                mean_reward = np.mean(y[-100:])\n",
        "                if self.verbose > 0:\n",
        "                    print(f\"Num timesteps: {self.num_timesteps}\")\n",
        "                    print(\n",
        "                        f\"Best mean reward: {self.best_mean_reward:.2f} - Last mean reward per episode: {mean_reward:.2f}\"\n",
        "                    )\n",
        "\n",
        "                # New best model, you could save the agent here\n",
        "                if mean_reward > self.best_mean_reward:\n",
        "                    self.best_mean_reward = mean_reward\n",
        "                    # Example for saving best model\n",
        "                    if self.verbose > 0:\n",
        "                        print(f\"Saving new best model to {self.save_path}.zip\")\n",
        "                    self.model.save(self.save_path)\n",
        "\n",
        "        return True"
      ],
      "metadata": {
        "id": "3pvIknF6Ggis"
      },
      "execution_count": null,
      "outputs": []
    },
    {
      "cell_type": "markdown",
      "source": [
        "### Start Training"
      ],
      "metadata": {
        "id": "TRjYZ9ByIk-q"
      }
    },
    {
      "cell_type": "code",
      "execution_count": null,
      "metadata": {
        "colab": {
          "base_uri": "https://localhost:8080/"
        },
        "id": "Ch4wXB6IEt1N",
        "outputId": "6e2f23b7-49c3-4bf7-f449-b4021f23e669"
      },
      "outputs": [
        {
          "output_type": "stream",
          "name": "stderr",
          "text": [
            "/usr/local/lib/python3.10/dist-packages/ipykernel/ipkernel.py:283: DeprecationWarning: `should_run_async` will not call `transform_cell` automatically in the future. Please pass the result to `transformed_cell` argument and any exception that happen during thetransform in `preprocessing_exc_tuple` in IPython 7.17 and above.\n",
            "  and should_run_async(code)\n"
          ]
        },
        {
          "output_type": "stream",
          "name": "stdout",
          "text": [
            "Using cpu device\n",
            "Wrapping the env in a DummyVecEnv.\n"
          ]
        },
        {
          "output_type": "execute_result",
          "data": {
            "text/plain": [
              "<stable_baselines3.ppo.ppo.PPO at 0x787dd8afb1f0>"
            ]
          },
          "metadata": {},
          "execution_count": 15
        }
      ],
      "source": [
        "from stable_baselines3.common.logger import configure\n",
        "\n",
        "building.reset()\n",
        "\n",
        "policy_kwargs = dict(\n",
        "    activation_fn=torch.nn.ReLU,\n",
        "    net_arch=dict(pi=[64, 32], vf=[64, 32]),\n",
        "    share_features_extractor=False,\n",
        ")\n",
        "callback = SaveOnBestTrainingRewardCallback(check_freq=1000, log_dir=log_dir, verbose=0)\n",
        "logger = configure(log_dir, [\"json\", \"csv\"])\n",
        "\n",
        "model = PPO(\n",
        "    \"MlpPolicy\",\n",
        "    building,\n",
        "    clip_range=0.2,\n",
        "    clip_range_vf=0.05,\n",
        "    gae_lambda=0.7,\n",
        "    policy_kwargs=policy_kwargs,\n",
        "    verbose=1\n",
        ")\n",
        "model.set_logger(logger)\n",
        "model.learn(total_timesteps=40960, callback=callback)"
      ]
    },
    {
      "cell_type": "markdown",
      "source": [
        "## Visualization"
      ],
      "metadata": {
        "id": "4R6IQW8wIv06"
      }
    },
    {
      "cell_type": "code",
      "source": [
        "from stable_baselines3.common import results_plotter\n",
        "\n",
        "# Helper from the library\n",
        "results_plotter.plot_results(\n",
        "    [log_dir], 1e5, results_plotter.X_TIMESTEPS, \"Elevator Dispatching PPO\"\n",
        ")"
      ],
      "metadata": {
        "colab": {
          "base_uri": "https://localhost:8080/",
          "height": 207
        },
        "id": "LhImwKnaOZv9",
        "outputId": "bfbb3cb3-f15c-49ca-fb21-f2214c7da35d"
      },
      "execution_count": null,
      "outputs": [
        {
          "output_type": "display_data",
          "data": {
            "text/plain": [
              "<Figure size 800x200 with 1 Axes>"
            ],
            "image/png": "[encoded data removed]"
          },
          "metadata": {}
        }
      ]
    }
  ],
  "metadata": {
    "colab": {
      "provenance": [],
      "collapsed_sections": [
        "dAzuGeTpEt1G",
        "4xOTmJsxEt1I",
        "48p10ipick06",
        "J8jjMP40Hmqh",
        "vQqoL-U_HOgn",
        "TRjYZ9ByIk-q",
        "4R6IQW8wIv06"
      ]
    },
    "kernelspec": {
      "display_name": "Python 3",
      "name": "python3"
    },
    "language_info": {
      "codemirror_mode": {
        "name": "ipython",
        "version": 3
      },
      "file_extension": ".py",
      "mimetype": "text/x-python",
      "name": "python",
      "nbconvert_exporter": "python",
      "pygments_lexer": "ipython3",
      "version": "3.9.17"
    }
  },
  "nbformat": 4,
  "nbformat_minor": 0
}