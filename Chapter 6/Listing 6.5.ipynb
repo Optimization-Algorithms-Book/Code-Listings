{
 "cells": [
  {
   "cell_type": "code",
   "execution_count": 1,
   "metadata": {},
   "outputs": [],
   "source": [
    "import sys\n",
    "# adding search_optimization_tools to the system path\n",
    "sys.path.insert(0, '../../')"
   ]
  },
  {
   "cell_type": "code",
   "execution_count": 2,
   "metadata": {},
   "outputs": [],
   "source": [
    "import urllib.request  # the lib that handles the url stuff\n",
    "from search_optimization_tools.algorithms.trajectory_based import SimulatedAnnealing\n",
    "from search_optimization_tools.problems import TSP\n",
    "import math\n",
    "import matplotlib.pyplot as plt"
   ]
  },
  {
   "cell_type": "code",
   "execution_count": 3,
   "metadata": {},
   "outputs": [],
   "source": [
    "cities = []\n",
    "ignore = True\n",
    "for line in urllib.request.urlopen('https://raw.githubusercontent.com/coin-or/jorlib/b3a41ce773e9b3b5b73c149d4c06097ea1511680/jorlib-core/src/test/resources/tspLib/tsp/berlin52.tsp'):\n",
    "    line = line.decode('utf-8').strip()\n",
    "    if line == 'EOF':\n",
    "        break\n",
    "    if not ignore:\n",
    "        cord = [float(_) for _ in line.split()[1:]] \n",
    "        # print(cord)\n",
    "        cities.append(cord)\n",
    "    if line == \"NODE_COORD_SECTION\":\n",
    "        ignore = False"
   ]
  },
  {
   "cell_type": "code",
   "execution_count": 4,
   "metadata": {},
   "outputs": [],
   "source": [
    "berlin52_dists = [ [0] * len(cities) for _ in range(len(cities))]\n",
    "for i in range(len(cities)):\n",
    "    for j in range(i+1, len(cities)):\n",
    "        berlin52_dists[i][j] = berlin52_dists[j][i] = math.sqrt((cities[i][0]-cities[j][0])**2 + (cities[i][1]-cities[j][1])**2)\n"
   ]
  },
  {
   "cell_type": "code",
   "execution_count": 5,
   "metadata": {},
   "outputs": [],
   "source": [
    "berlin52_tsp_1 = TSP(berlin52_dists, 'random_swap', num_swaps=1)\n",
    "berlin52_tsp_5 = TSP(berlin52_dists, 'random_swap', num_swaps=5)\n",
    "berlin52_tsp_10 = TSP(berlin52_dists, 'random_swap', num_swaps=10)\n",
    "berlin52_tsp_15 = TSP(berlin52_dists, 'random_swap', num_swaps=15)"
   ]
  },
  {
   "cell_type": "code",
   "execution_count": 6,
   "metadata": {},
   "outputs": [],
   "source": [
    "sa_1  = SimulatedAnnealing(max_iter=70000, max_iter_per_temp=1000, initial_temp=10000, final_temp=0.1, cooling_schedule='linear', cooling_alpha=0.85)\n",
    "sa_5  = SimulatedAnnealing(max_iter=70000, max_iter_per_temp=1000, initial_temp=10000, final_temp=0.1, cooling_schedule='linear', cooling_alpha=0.85)\n",
    "sa_10 = SimulatedAnnealing(max_iter=70000, max_iter_per_temp=1000, initial_temp=10000, final_temp=0.1, cooling_schedule='linear', cooling_alpha=0.85)\n",
    "sa_15 = SimulatedAnnealing(max_iter=70000, max_iter_per_temp=1000, initial_temp=10000, final_temp=0.1, cooling_schedule='linear', cooling_alpha=0.85)"
   ]
  },
  {
   "cell_type": "code",
   "execution_count": 7,
   "metadata": {},
   "outputs": [],
   "source": [
    "sols = {\n",
    "    'sa_1': [0] * (sa_1.max_iter + 1),\n",
    "    'sa_5': [0] * (sa_5.max_iter + 1),\n",
    "    'sa_10': [0] * (sa_10.max_iter + 1),\n",
    "    'sa_15': [0] * (sa_15.max_iter + 1),\n",
    "}"
   ]
  },
  {
   "cell_type": "code",
   "execution_count": 8,
   "metadata": {},
   "outputs": [
    {
     "name": "stdout",
     "output_type": "stream",
     "text": [
      "1:  eval_sol=31555.464181032276, cur_temp=10000.000000, cur_iter=1.000000\n",
      "5:  eval_sol=30804.003588674088, cur_temp=10000.000000, cur_iter=1.000000\n",
      "10: eval_sol=29105.430135976025, cur_temp=10000.000000, cur_iter=1.000000\n",
      "15: eval_sol=28842.951808863458, cur_temp=10000.000000, cur_iter=1.000000\n",
      "\n",
      "1:  eval_sol=24767.11484903451, cur_temp=9999.857144, cur_iter=2.000000\n",
      "5:  eval_sol=24976.167035763596, cur_temp=9999.857144, cur_iter=2.000000\n",
      "10: eval_sol=24622.81201896886, cur_temp=9999.857144, cur_iter=2.000000\n",
      "15: eval_sol=23802.221020359077, cur_temp=9999.857144, cur_iter=2.000000\n",
      "\n",
      "1:  eval_sol=21358.950376526165, cur_temp=8571.300001, cur_iter=10002.000000\n",
      "5:  eval_sol=20897.638113592777, cur_temp=8571.300001, cur_iter=10002.000000\n",
      "10: eval_sol=20843.172388777086, cur_temp=8571.300001, cur_iter=10002.000000\n",
      "15: eval_sol=20750.042555711494, cur_temp=8571.300001, cur_iter=10002.000000\n",
      "\n",
      "1:  eval_sol=20961.679070840586, cur_temp=7142.742859, cur_iter=20002.000000\n",
      "5:  eval_sol=20897.638113592777, cur_temp=7142.742859, cur_iter=20002.000000\n",
      "10: eval_sol=20843.172388777086, cur_temp=7142.742859, cur_iter=20002.000000\n",
      "15: eval_sol=20599.169417990135, cur_temp=7142.742859, cur_iter=20002.000000\n",
      "\n",
      "1:  eval_sol=20903.623217879893, cur_temp=5714.185716, cur_iter=30002.000000\n",
      "5:  eval_sol=20336.620311590657, cur_temp=5714.185716, cur_iter=30002.000000\n",
      "10: eval_sol=20543.020439314878, cur_temp=5714.185716, cur_iter=30002.000000\n",
      "15: eval_sol=20599.169417990135, cur_temp=5714.185716, cur_iter=30002.000000\n",
      "\n"
     ]
    }
   ],
   "source": [
    "sa_1.init_annealing(berlin52_tsp_1)\n",
    "sa_5.init_annealing(berlin52_tsp_5)\n",
    "sa_10.init_annealing(berlin52_tsp_10)\n",
    "sa_15.init_annealing(berlin52_tsp_15)\n",
    "print (\"1:  eval_sol=%s, cur_temp=%f, cur_iter=%f\" %(sa_1.val_cur,sa_1.t,sa_1.iter))\n",
    "print (\"5:  eval_sol=%s, cur_temp=%f, cur_iter=%f\" %(sa_5.val_cur,sa_5.t,sa_5.iter))\n",
    "print (\"10: eval_sol=%s, cur_temp=%f, cur_iter=%f\" %(sa_10.val_cur,sa_10.t,sa_10.iter))\n",
    "print (\"15: eval_sol=%s, cur_temp=%f, cur_iter=%f\" %(sa_15.val_cur,sa_15.t,sa_15.iter))\n",
    "print()\n",
    "sols['sa_1'][sa_1.iter-1] = sa_1.val_cur\n",
    "sols['sa_5'][sa_5.iter-1] = sa_5.val_cur\n",
    "sols['sa_10'][sa_10.iter-1] = sa_10.val_cur\n",
    "sols['sa_15'][sa_15.iter-1] = sa_15.val_cur\n",
    "for i in range(70000):\n",
    "    for _ in range(1000):\n",
    "        sa_1.annealing_step()\n",
    "        sa_5.annealing_step()\n",
    "        sa_10.annealing_step()\n",
    "        sa_15.annealing_step()\n",
    "    sa_1.update_temperature()\n",
    "    sa_5.update_temperature()\n",
    "    sa_10.update_temperature()\n",
    "    sa_15.update_temperature()\n",
    "    sa_1.iter += 1\n",
    "    sa_5.iter += 1\n",
    "    sa_10.iter += 1\n",
    "    sa_15.iter += 1\n",
    "    sols['sa_1'][sa_1.iter-1] = sa_1.val_cur\n",
    "    sols['sa_5'][sa_5.iter-1] = sa_5.val_cur\n",
    "    sols['sa_10'][sa_10.iter-1] = sa_10.val_cur\n",
    "    sols['sa_15'][sa_15.iter-1] = sa_15.val_cur\n",
    "\n",
    "    if i % 10000 == 0:\n",
    "        print (\"1:  eval_sol=%s, cur_temp=%f, cur_iter=%f\" %(sa_1.val_best,sa_1.t,sa_1.iter))\n",
    "        print (\"5:  eval_sol=%s, cur_temp=%f, cur_iter=%f\" %(sa_5.val_best,sa_5.t,sa_5.iter))\n",
    "        print (\"10: eval_sol=%s, cur_temp=%f, cur_iter=%f\" %(sa_10.val_best,sa_10.t,sa_10.iter))\n",
    "        print (\"15: eval_sol=%s, cur_temp=%f, cur_iter=%f\" %(sa_15.val_best,sa_15.t,sa_15.iter))\n",
    "        print()\n",
    "\n",
    "print (\"1:  eval_sol=%s, cur_temp=%f, cur_iter=%f\" %(sa_1.val_best,sa_1.t,sa_1.iter))\n",
    "print (\"5:  eval_sol=%s, cur_temp=%f, cur_iter=%f\" %(sa_5.val_best,sa_5.t,sa_5.iter))\n",
    "print (\"10: eval_sol=%s, cur_temp=%f, cur_iter=%f\" %(sa_10.val_best,sa_10.t,sa_10.iter))\n",
    "print (\"15: eval_sol=%s, cur_temp=%f, cur_iter=%f\" %(sa_15.val_best,sa_15.t,sa_15.iter))\n"
   ]
  },
  {
   "cell_type": "code",
   "execution_count": null,
   "metadata": {},
   "outputs": [],
   "source": [
    "plt.plot(sols['sa_1'][:70000])\n",
    "plt.plot(sols['sa_5'][:70000])\n",
    "plt.plot(sols['sa_10'][:70000])\n",
    "plt.plot(sols['sa_15'][:70000])"
   ]
  }
 ],
 "metadata": {
  "kernelspec": {
   "display_name": "Python 3.10.1 64-bit",
   "language": "python",
   "name": "python3"
  },
  "language_info": {
   "codemirror_mode": {
    "name": "ipython",
    "version": 3
   },
   "file_extension": ".py",
   "mimetype": "text/x-python",
   "name": "python",
   "nbconvert_exporter": "python",
   "pygments_lexer": "ipython3",
   "version": "3.10.1"
  },
  "orig_nbformat": 4,
  "vscode": {
   "interpreter": {
    "hash": "26de051ba29f2982a8de78e945f0abaf191376122a1563185a90213a26c5da77"
   }
  }
 },
 "nbformat": 4,
 "nbformat_minor": 2
}
