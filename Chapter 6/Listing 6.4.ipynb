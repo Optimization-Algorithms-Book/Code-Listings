{
 "cells": [
  {
   "cell_type": "code",
   "execution_count": 1,
   "metadata": {},
   "outputs": [],
   "source": [
    "import sys\n",
    "# adding search_optimization_tools to the system path\n",
    "sys.path.insert(0, '../')"
   ]
  },
  {
   "cell_type": "code",
   "execution_count": 2,
   "metadata": {},
   "outputs": [],
   "source": [
    "from search_optimization_tools.algorithms.trajectory_based import SimulatedAnnealing\n",
    "from search_optimization_tools.problems import TSP"
   ]
  },
  {
   "cell_type": "code",
   "execution_count": 3,
   "metadata": {},
   "outputs": [
    {
     "data": {
      "text/plain": [
       "[[0, 4, 2, 9, 12],\n",
       " [4, 0, 7, 5, 5],\n",
       " [2, 7, 0, 4, 10],\n",
       " [9, 5, 4, 0, 3],\n",
       " [12, 5, 10, 3, 0]]"
      ]
     },
     "execution_count": 3,
     "metadata": {},
     "output_type": "execute_result"
    }
   ],
   "source": [
    "dists = [ [0] * 5 for _ in range(5)]\n",
    "dists[0][1] = dists[1][0] = 4\n",
    "dists[0][2] = dists[2][0] = 2\n",
    "dists[0][3] = dists[3][0] = 9\n",
    "dists[0][4] = dists[4][0] = 12\n",
    "dists[1][2] = dists[2][1] = 7\n",
    "dists[1][3] = dists[3][1] = 5\n",
    "dists[1][4] = dists[4][1] = 5\n",
    "dists[2][3] = dists[3][2] = 4\n",
    "dists[2][4] = dists[4][2] = 10\n",
    "dists[3][4] = dists[4][3] = 3\n",
    "dists"
   ]
  },
  {
   "cell_type": "code",
   "execution_count": 4,
   "metadata": {},
   "outputs": [],
   "source": [
    "tsp_sample = TSP(dists, 'random_swap')"
   ]
  },
  {
   "cell_type": "code",
   "execution_count": 5,
   "metadata": {},
   "outputs": [
    {
     "data": {
      "text/plain": [
       "([3, 2, 0, 1, 4], 18, 0.0999900009999, 5556)"
      ]
     },
     "execution_count": 5,
     "metadata": {},
     "output_type": "execute_result"
    }
   ],
   "source": [
    "sa = SimulatedAnnealing(max_iter=10000, max_iter_per_temp=1, initial_temp=500, final_temp=50, cooling_schedule='linear_inverse', cooling_alpha=0.9)\n",
    "sa.run(tsp_sample)\n",
    "sa.s_best, sa.val_best,sa.t,sa.iter"
   ]
  },
  {
   "cell_type": "code",
   "execution_count": 6,
   "metadata": {},
   "outputs": [
    {
     "name": "stdout",
     "output_type": "stream",
     "text": [
      "init_sol=[4, 3, 1, 2, 0], eval_sol=29, cur_temp=500.000000, cur_iter=1.000000\n",
      "cur_sol=[4, 3, 1, 0, 2], eval_sol=24, best_sol=[4, 3, 1, 0, 2], eval_best=24, cur_temp=178.571429, cur_iter=2.000000\n",
      "cur_sol=[2, 3, 1, 0, 4], eval_sol=35, best_sol=[4, 3, 1, 0, 2], eval_best=24, cur_temp=135.135135, cur_iter=3.000000\n",
      "cur_sol=[4, 3, 1, 0, 2], eval_sol=24, best_sol=[4, 3, 1, 0, 2], eval_best=24, cur_temp=108.695652, cur_iter=4.000000\n",
      "cur_sol=[1, 3, 4, 0, 2], eval_sol=29, best_sol=[4, 3, 1, 0, 2], eval_best=24, cur_temp=90.909091, cur_iter=5.000000\n",
      "cur_sol=[1, 3, 2, 0, 4], eval_sol=28, best_sol=[4, 3, 1, 0, 2], eval_best=24, cur_temp=78.125000, cur_iter=6.000000\n",
      "cur_sol=[1, 3, 2, 4, 0], eval_sol=28, best_sol=[4, 3, 1, 0, 2], eval_best=24, cur_temp=68.493151, cur_iter=7.000000\n",
      "cur_sol=[0, 3, 2, 4, 1], eval_sol=32, best_sol=[4, 3, 1, 0, 2], eval_best=24, cur_temp=60.975610, cur_iter=8.000000\n",
      "cur_sol=[3, 0, 2, 4, 1], eval_sol=31, best_sol=[4, 3, 1, 0, 2], eval_best=24, cur_temp=54.945055, cur_iter=9.000000\n",
      "cur_sol=[0, 3, 2, 4, 1], eval_sol=32, best_sol=[4, 3, 1, 0, 2], eval_best=24, cur_temp=50.000000, cur_iter=10.000000\n",
      "cur_sol=[0, 3, 2, 1, 4], eval_sol=37, best_sol=[4, 3, 1, 0, 2], eval_best=24, cur_temp=45.871560, cur_iter=11.000000\n",
      "cur_sol=[0, 2, 3, 1, 4], eval_sol=28, best_sol=[4, 3, 1, 0, 2], eval_best=24, cur_temp=42.372881, cur_iter=12.000000\n",
      "cur_sol=[1, 2, 3, 0, 4], eval_sol=28, best_sol=[4, 3, 1, 0, 2], eval_best=24, cur_temp=39.370079, cur_iter=13.000000\n",
      "cur_sol=[1, 2, 3, 4, 0], eval_sol=30, best_sol=[4, 3, 1, 0, 2], eval_best=24, cur_temp=36.764706, cur_iter=14.000000\n",
      "cur_sol=[3, 2, 1, 4, 0], eval_sol=37, best_sol=[4, 3, 1, 0, 2], eval_best=24, cur_temp=34.482759, cur_iter=15.000000\n",
      "cur_sol=[3, 2, 0, 4, 1], eval_sol=28, best_sol=[4, 3, 1, 0, 2], eval_best=24, cur_temp=32.467532, cur_iter=16.000000\n",
      "cur_sol=[0, 2, 3, 4, 1], eval_sol=18, best_sol=[0, 2, 3, 4, 1], eval_best=18, cur_temp=30.674847, cur_iter=17.000000\n",
      "cur_sol=[0, 2, 4, 3, 1], eval_sol=24, best_sol=[0, 2, 3, 4, 1], eval_best=18, cur_temp=29.069767, cur_iter=18.000000\n",
      "cur_sol=[0, 2, 3, 4, 1], eval_sol=18, best_sol=[0, 2, 3, 4, 1], eval_best=18, cur_temp=27.624309, cur_iter=19.000000\n",
      "cur_sol=[4, 2, 3, 0, 1], eval_sol=18, best_sol=[0, 2, 3, 4, 1], eval_best=18, cur_temp=26.315789, cur_iter=20.000000\n",
      "cur_sol=[2, 4, 3, 0, 1], eval_sol=33, best_sol=[0, 2, 3, 4, 1], eval_best=18, cur_temp=25.125628, cur_iter=21.000000\n"
     ]
    }
   ],
   "source": [
    "sa.init_annealing()\n",
    "print (\"init_sol=%s, eval_sol=%s, cur_temp=%f, cur_iter=%f\" %(sa.s_best, sa.val_best,sa.t,sa.iter))\n",
    "for i in range(20):\n",
    "    sa.annealing_step()\n",
    "    sa.iter += 1\n",
    "    sa.update_temperature()\n",
    "    print (\"cur_sol=%s, eval_sol=%s, best_sol=%s, eval_best=%s, cur_temp=%f, cur_iter=%f\" %(sa.s_cur, sa.val_cur,sa.s_best, sa.val_best,sa.t,sa.iter))"
   ]
  }
 ],
 "metadata": {
  "kernelspec": {
   "display_name": "Python 3.10.1 64-bit",
   "language": "python",
   "name": "python3"
  },
  "language_info": {
   "codemirror_mode": {
    "name": "ipython",
    "version": 3
   },
   "file_extension": ".py",
   "mimetype": "text/x-python",
   "name": "python",
   "nbconvert_exporter": "python",
   "pygments_lexer": "ipython3",
   "version": "3.10.1"
  },
  "orig_nbformat": 4,
  "vscode": {
   "interpreter": {
    "hash": "26de051ba29f2982a8de78e945f0abaf191376122a1563185a90213a26c5da77"
   }
  }
 },
 "nbformat": 4,
 "nbformat_minor": 2
}
