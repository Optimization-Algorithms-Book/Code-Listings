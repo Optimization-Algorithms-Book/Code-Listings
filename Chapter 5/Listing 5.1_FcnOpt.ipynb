{
 "cells": [
  {
   "cell_type": "markdown",
   "id": "9d189d02-7fa8-413c-96c2-6553d66de18c",
   "metadata": {},
   "source": [
    "# Solving Bohachevsky function using scipy dual annealing"
   ]
  },
  {
   "cell_type": "code",
   "execution_count": 1,
   "id": "ba0ecac2-00f0-4b56-8500-66f12f270c1b",
   "metadata": {},
   "outputs": [
    {
     "name": "stdout",
     "output_type": "stream",
     "text": [
      "Dual Annealing Solution: f([-6.18612076e-01 -2.38890515e-09]) = 0.41293\n"
     ]
    }
   ],
   "source": [
    "#!pip install scipy\n",
    "import numpy as np\n",
    "from scipy.optimize import dual_annealing\n",
    "\n",
    "# Define objective function/s\n",
    "def objective_function(solution):\n",
    "    # Bohachevsky function\n",
    "    return solution[0]**2 +2*(solution[1]**2) - 0.3*np.cos(3*np.pi*solution[0]) - 0.4*np.cos(4*np.pi*solution[1]) + 0.7\n",
    "\n",
    "# Define boundary constraints of the decision variables\n",
    "bounds = np.asarray([[-100, 100], [-100, 100]])\n",
    "\n",
    "# Perform dual annealing search\n",
    "res_dual = dual_annealing(objective_function, bounds=bounds, maxiter = 100)\n",
    "\n",
    "# Print Dual Annealing Solution\n",
    "print('Dual Annealing Solution: f(%s) = %.5f' % (res_dual['x'], res_dual['fun']))"
   ]
  },
  {
   "cell_type": "markdown",
   "id": "f501b804-82fa-4eba-87b2-44585d16f4a6",
   "metadata": {},
   "source": [
    "# Solving Bohachevsky function using MEALPY SA"
   ]
  },
  {
   "cell_type": "code",
   "execution_count": 2,
   "id": "23f10a92-5e69-43cd-a73a-903dbd748009",
   "metadata": {},
   "outputs": [
    {
     "name": "stderr",
     "output_type": "stream",
     "text": [
      "2025/01/28 08:25:29 PM, INFO, mealpy.physics_based.SA.OriginalSA: Solving single objective optimization problem.\n",
      "2025/01/28 08:25:29 PM, INFO, mealpy.physics_based.SA.OriginalSA: >>>Problem: P, Epoch: 1, Current best: 0.0, Global best: 0.0, Runtime: 0.00030 seconds\n",
      "2025/01/28 08:25:29 PM, INFO, mealpy.physics_based.SA.OriginalSA: >>>Problem: P, Epoch: 2, Current best: 0.0, Global best: 0.0, Runtime: 0.00028 seconds\n",
      "2025/01/28 08:25:29 PM, INFO, mealpy.physics_based.SA.OriginalSA: >>>Problem: P, Epoch: 3, Current best: 0.0, Global best: 0.0, Runtime: 0.00015 seconds\n",
      "2025/01/28 08:25:29 PM, INFO, mealpy.physics_based.SA.OriginalSA: >>>Problem: P, Epoch: 4, Current best: 0.0, Global best: 0.0, Runtime: 0.00027 seconds\n",
      "2025/01/28 08:25:29 PM, INFO, mealpy.physics_based.SA.OriginalSA: >>>Problem: P, Epoch: 5, Current best: 0.0, Global best: 0.0, Runtime: 0.00037 seconds\n",
      "2025/01/28 08:25:29 PM, INFO, mealpy.physics_based.SA.OriginalSA: >>>Problem: P, Epoch: 6, Current best: 0.0, Global best: 0.0, Runtime: 0.00017 seconds\n",
      "2025/01/28 08:25:29 PM, INFO, mealpy.physics_based.SA.OriginalSA: >>>Problem: P, Epoch: 7, Current best: 0.0, Global best: 0.0, Runtime: 0.00026 seconds\n",
      "2025/01/28 08:25:29 PM, INFO, mealpy.physics_based.SA.OriginalSA: >>>Problem: P, Epoch: 8, Current best: 0.0, Global best: 0.0, Runtime: 0.00022 seconds\n",
      "2025/01/28 08:25:29 PM, INFO, mealpy.physics_based.SA.OriginalSA: >>>Problem: P, Epoch: 9, Current best: 0.0, Global best: 0.0, Runtime: 0.00027 seconds\n",
      "2025/01/28 08:25:29 PM, INFO, mealpy.physics_based.SA.OriginalSA: >>>Problem: P, Epoch: 10, Current best: 0.0, Global best: 0.0, Runtime: 0.00032 seconds\n",
      "2025/01/28 08:25:29 PM, INFO, mealpy.physics_based.SA.OriginalSA: >>>Problem: P, Epoch: 11, Current best: 0.0, Global best: 0.0, Runtime: 0.00043 seconds\n",
      "2025/01/28 08:25:29 PM, INFO, mealpy.physics_based.SA.OriginalSA: >>>Problem: P, Epoch: 12, Current best: 0.0, Global best: 0.0, Runtime: 0.00032 seconds\n",
      "2025/01/28 08:25:29 PM, INFO, mealpy.physics_based.SA.OriginalSA: >>>Problem: P, Epoch: 13, Current best: 0.0, Global best: 0.0, Runtime: 0.00035 seconds\n",
      "2025/01/28 08:25:29 PM, INFO, mealpy.physics_based.SA.OriginalSA: >>>Problem: P, Epoch: 14, Current best: 0.0, Global best: 0.0, Runtime: 0.00033 seconds\n",
      "2025/01/28 08:25:29 PM, INFO, mealpy.physics_based.SA.OriginalSA: >>>Problem: P, Epoch: 15, Current best: 0.0, Global best: 0.0, Runtime: 0.00019 seconds\n",
      "2025/01/28 08:25:29 PM, INFO, mealpy.physics_based.SA.OriginalSA: >>>Problem: P, Epoch: 16, Current best: 0.0, Global best: 0.0, Runtime: 0.00028 seconds\n",
      "2025/01/28 08:25:29 PM, INFO, mealpy.physics_based.SA.OriginalSA: >>>Problem: P, Epoch: 17, Current best: 0.0, Global best: 0.0, Runtime: 0.00035 seconds\n",
      "2025/01/28 08:25:29 PM, INFO, mealpy.physics_based.SA.OriginalSA: >>>Problem: P, Epoch: 18, Current best: 0.0, Global best: 0.0, Runtime: 0.00141 seconds\n",
      "2025/01/28 08:25:29 PM, INFO, mealpy.physics_based.SA.OriginalSA: >>>Problem: P, Epoch: 19, Current best: 0.0, Global best: 0.0, Runtime: 0.00031 seconds\n",
      "2025/01/28 08:25:29 PM, INFO, mealpy.physics_based.SA.OriginalSA: >>>Problem: P, Epoch: 20, Current best: 0.0, Global best: 0.0, Runtime: 0.00033 seconds\n",
      "2025/01/28 08:25:29 PM, INFO, mealpy.physics_based.SA.OriginalSA: >>>Problem: P, Epoch: 21, Current best: 0.0, Global best: 0.0, Runtime: 0.00046 seconds\n",
      "2025/01/28 08:25:29 PM, INFO, mealpy.physics_based.SA.OriginalSA: >>>Problem: P, Epoch: 22, Current best: 0.0, Global best: 0.0, Runtime: 0.00037 seconds\n",
      "2025/01/28 08:25:29 PM, INFO, mealpy.physics_based.SA.OriginalSA: >>>Problem: P, Epoch: 23, Current best: 0.0, Global best: 0.0, Runtime: 0.00035 seconds\n",
      "2025/01/28 08:25:29 PM, INFO, mealpy.physics_based.SA.OriginalSA: >>>Problem: P, Epoch: 24, Current best: 0.0, Global best: 0.0, Runtime: 0.00043 seconds\n",
      "2025/01/28 08:25:29 PM, INFO, mealpy.physics_based.SA.OriginalSA: >>>Problem: P, Epoch: 25, Current best: 0.0, Global best: 0.0, Runtime: 0.00042 seconds\n",
      "2025/01/28 08:25:29 PM, INFO, mealpy.physics_based.SA.OriginalSA: >>>Problem: P, Epoch: 26, Current best: 0.0, Global best: 0.0, Runtime: 0.00039 seconds\n",
      "2025/01/28 08:25:29 PM, INFO, mealpy.physics_based.SA.OriginalSA: >>>Problem: P, Epoch: 27, Current best: 0.0, Global best: 0.0, Runtime: 0.00035 seconds\n",
      "2025/01/28 08:25:29 PM, INFO, mealpy.physics_based.SA.OriginalSA: >>>Problem: P, Epoch: 28, Current best: 0.0, Global best: 0.0, Runtime: 0.00077 seconds\n",
      "2025/01/28 08:25:29 PM, INFO, mealpy.physics_based.SA.OriginalSA: >>>Problem: P, Epoch: 29, Current best: 0.0, Global best: 0.0, Runtime: 0.00029 seconds\n",
      "2025/01/28 08:25:29 PM, INFO, mealpy.physics_based.SA.OriginalSA: >>>Problem: P, Epoch: 30, Current best: 0.0, Global best: 0.0, Runtime: 0.00094 seconds\n",
      "2025/01/28 08:25:29 PM, INFO, mealpy.physics_based.SA.OriginalSA: >>>Problem: P, Epoch: 31, Current best: 0.0, Global best: 0.0, Runtime: 0.00019 seconds\n",
      "2025/01/28 08:25:29 PM, INFO, mealpy.physics_based.SA.OriginalSA: >>>Problem: P, Epoch: 32, Current best: 0.0, Global best: 0.0, Runtime: 0.00028 seconds\n",
      "2025/01/28 08:25:29 PM, INFO, mealpy.physics_based.SA.OriginalSA: >>>Problem: P, Epoch: 33, Current best: 0.0, Global best: 0.0, Runtime: 0.00033 seconds\n",
      "2025/01/28 08:25:29 PM, INFO, mealpy.physics_based.SA.OriginalSA: >>>Problem: P, Epoch: 34, Current best: 0.0, Global best: 0.0, Runtime: 0.00059 seconds\n",
      "2025/01/28 08:25:29 PM, INFO, mealpy.physics_based.SA.OriginalSA: >>>Problem: P, Epoch: 35, Current best: 0.0, Global best: 0.0, Runtime: 0.00030 seconds\n",
      "2025/01/28 08:25:29 PM, INFO, mealpy.physics_based.SA.OriginalSA: >>>Problem: P, Epoch: 36, Current best: 0.0, Global best: 0.0, Runtime: 0.00036 seconds\n",
      "2025/01/28 08:25:29 PM, INFO, mealpy.physics_based.SA.OriginalSA: >>>Problem: P, Epoch: 37, Current best: 0.0, Global best: 0.0, Runtime: 0.00025 seconds\n",
      "2025/01/28 08:25:29 PM, INFO, mealpy.physics_based.SA.OriginalSA: >>>Problem: P, Epoch: 38, Current best: 0.0, Global best: 0.0, Runtime: 0.00032 seconds\n",
      "2025/01/28 08:25:29 PM, INFO, mealpy.physics_based.SA.OriginalSA: >>>Problem: P, Epoch: 39, Current best: 0.0, Global best: 0.0, Runtime: 0.00033 seconds\n",
      "2025/01/28 08:25:29 PM, INFO, mealpy.physics_based.SA.OriginalSA: >>>Problem: P, Epoch: 40, Current best: 0.0, Global best: 0.0, Runtime: 0.00039 seconds\n",
      "2025/01/28 08:25:29 PM, INFO, mealpy.physics_based.SA.OriginalSA: >>>Problem: P, Epoch: 41, Current best: 0.0, Global best: 0.0, Runtime: 0.00120 seconds\n",
      "2025/01/28 08:25:29 PM, INFO, mealpy.physics_based.SA.OriginalSA: >>>Problem: P, Epoch: 42, Current best: 0.0, Global best: 0.0, Runtime: 0.00102 seconds\n",
      "2025/01/28 08:25:29 PM, INFO, mealpy.physics_based.SA.OriginalSA: >>>Problem: P, Epoch: 43, Current best: 0.0, Global best: 0.0, Runtime: 0.00036 seconds\n",
      "2025/01/28 08:25:29 PM, INFO, mealpy.physics_based.SA.OriginalSA: >>>Problem: P, Epoch: 44, Current best: 0.0, Global best: 0.0, Runtime: 0.00044 seconds\n",
      "2025/01/28 08:25:29 PM, INFO, mealpy.physics_based.SA.OriginalSA: >>>Problem: P, Epoch: 45, Current best: 0.0, Global best: 0.0, Runtime: 0.00026 seconds\n",
      "2025/01/28 08:25:29 PM, INFO, mealpy.physics_based.SA.OriginalSA: >>>Problem: P, Epoch: 46, Current best: 0.0, Global best: 0.0, Runtime: 0.00033 seconds\n",
      "2025/01/28 08:25:29 PM, INFO, mealpy.physics_based.SA.OriginalSA: >>>Problem: P, Epoch: 47, Current best: 0.0, Global best: 0.0, Runtime: 0.00055 seconds\n",
      "2025/01/28 08:25:29 PM, INFO, mealpy.physics_based.SA.OriginalSA: >>>Problem: P, Epoch: 48, Current best: 0.0, Global best: 0.0, Runtime: 0.00032 seconds\n",
      "2025/01/28 08:25:29 PM, INFO, mealpy.physics_based.SA.OriginalSA: >>>Problem: P, Epoch: 49, Current best: 0.0, Global best: 0.0, Runtime: 0.00025 seconds\n",
      "2025/01/28 08:25:29 PM, INFO, mealpy.physics_based.SA.OriginalSA: >>>Problem: P, Epoch: 50, Current best: 0.0, Global best: 0.0, Runtime: 0.00054 seconds\n",
      "2025/01/28 08:25:29 PM, INFO, mealpy.physics_based.SA.OriginalSA: >>>Problem: P, Epoch: 51, Current best: 0.0, Global best: 0.0, Runtime: 0.00110 seconds\n",
      "2025/01/28 08:25:29 PM, INFO, mealpy.physics_based.SA.OriginalSA: >>>Problem: P, Epoch: 52, Current best: 0.0, Global best: 0.0, Runtime: 0.00048 seconds\n",
      "2025/01/28 08:25:29 PM, INFO, mealpy.physics_based.SA.OriginalSA: >>>Problem: P, Epoch: 53, Current best: 0.0, Global best: 0.0, Runtime: 0.00040 seconds\n",
      "2025/01/28 08:25:29 PM, INFO, mealpy.physics_based.SA.OriginalSA: >>>Problem: P, Epoch: 54, Current best: 0.0, Global best: 0.0, Runtime: 0.00040 seconds\n",
      "2025/01/28 08:25:29 PM, INFO, mealpy.physics_based.SA.OriginalSA: >>>Problem: P, Epoch: 55, Current best: 0.0, Global best: 0.0, Runtime: 0.00054 seconds\n",
      "2025/01/28 08:25:29 PM, INFO, mealpy.physics_based.SA.OriginalSA: >>>Problem: P, Epoch: 56, Current best: 0.0, Global best: 0.0, Runtime: 0.00054 seconds\n",
      "2025/01/28 08:25:29 PM, INFO, mealpy.physics_based.SA.OriginalSA: >>>Problem: P, Epoch: 57, Current best: 0.0, Global best: 0.0, Runtime: 0.00057 seconds\n",
      "2025/01/28 08:25:29 PM, INFO, mealpy.physics_based.SA.OriginalSA: >>>Problem: P, Epoch: 58, Current best: 0.0, Global best: 0.0, Runtime: 0.00039 seconds\n",
      "2025/01/28 08:25:29 PM, INFO, mealpy.physics_based.SA.OriginalSA: >>>Problem: P, Epoch: 59, Current best: 0.0, Global best: 0.0, Runtime: 0.00040 seconds\n",
      "2025/01/28 08:25:29 PM, INFO, mealpy.physics_based.SA.OriginalSA: >>>Problem: P, Epoch: 60, Current best: 0.0, Global best: 0.0, Runtime: 0.00041 seconds\n",
      "2025/01/28 08:25:29 PM, INFO, mealpy.physics_based.SA.OriginalSA: >>>Problem: P, Epoch: 61, Current best: 0.0, Global best: 0.0, Runtime: 0.00033 seconds\n",
      "2025/01/28 08:25:29 PM, INFO, mealpy.physics_based.SA.OriginalSA: >>>Problem: P, Epoch: 62, Current best: 0.0, Global best: 0.0, Runtime: 0.00043 seconds\n",
      "2025/01/28 08:25:29 PM, INFO, mealpy.physics_based.SA.OriginalSA: >>>Problem: P, Epoch: 63, Current best: 0.0, Global best: 0.0, Runtime: 0.00042 seconds\n",
      "2025/01/28 08:25:29 PM, INFO, mealpy.physics_based.SA.OriginalSA: >>>Problem: P, Epoch: 64, Current best: 0.0, Global best: 0.0, Runtime: 0.00050 seconds\n",
      "2025/01/28 08:25:29 PM, INFO, mealpy.physics_based.SA.OriginalSA: >>>Problem: P, Epoch: 65, Current best: 0.0, Global best: 0.0, Runtime: 0.00035 seconds\n",
      "2025/01/28 08:25:29 PM, INFO, mealpy.physics_based.SA.OriginalSA: >>>Problem: P, Epoch: 66, Current best: 0.0, Global best: 0.0, Runtime: 0.00043 seconds\n",
      "2025/01/28 08:25:29 PM, INFO, mealpy.physics_based.SA.OriginalSA: >>>Problem: P, Epoch: 67, Current best: 0.0, Global best: 0.0, Runtime: 0.00037 seconds\n",
      "2025/01/28 08:25:29 PM, INFO, mealpy.physics_based.SA.OriginalSA: >>>Problem: P, Epoch: 68, Current best: 0.0, Global best: 0.0, Runtime: 0.00041 seconds\n",
      "2025/01/28 08:25:29 PM, INFO, mealpy.physics_based.SA.OriginalSA: >>>Problem: P, Epoch: 69, Current best: 0.0, Global best: 0.0, Runtime: 0.00033 seconds\n",
      "2025/01/28 08:25:29 PM, INFO, mealpy.physics_based.SA.OriginalSA: >>>Problem: P, Epoch: 70, Current best: 0.0, Global best: 0.0, Runtime: 0.00071 seconds\n",
      "2025/01/28 08:25:29 PM, INFO, mealpy.physics_based.SA.OriginalSA: >>>Problem: P, Epoch: 71, Current best: 0.0, Global best: 0.0, Runtime: 0.00032 seconds\n",
      "2025/01/28 08:25:29 PM, INFO, mealpy.physics_based.SA.OriginalSA: >>>Problem: P, Epoch: 72, Current best: 0.0, Global best: 0.0, Runtime: 0.00043 seconds\n",
      "2025/01/28 08:25:29 PM, INFO, mealpy.physics_based.SA.OriginalSA: >>>Problem: P, Epoch: 73, Current best: 0.0, Global best: 0.0, Runtime: 0.00084 seconds\n",
      "2025/01/28 08:25:29 PM, INFO, mealpy.physics_based.SA.OriginalSA: >>>Problem: P, Epoch: 74, Current best: 0.0, Global best: 0.0, Runtime: 0.00066 seconds\n",
      "2025/01/28 08:25:29 PM, INFO, mealpy.physics_based.SA.OriginalSA: >>>Problem: P, Epoch: 75, Current best: 0.0, Global best: 0.0, Runtime: 0.00030 seconds\n",
      "2025/01/28 08:25:29 PM, INFO, mealpy.physics_based.SA.OriginalSA: >>>Problem: P, Epoch: 76, Current best: 0.0, Global best: 0.0, Runtime: 0.00031 seconds\n",
      "2025/01/28 08:25:29 PM, INFO, mealpy.physics_based.SA.OriginalSA: >>>Problem: P, Epoch: 77, Current best: 0.0, Global best: 0.0, Runtime: 0.00031 seconds\n",
      "2025/01/28 08:25:29 PM, INFO, mealpy.physics_based.SA.OriginalSA: >>>Problem: P, Epoch: 78, Current best: 0.0, Global best: 0.0, Runtime: 0.00106 seconds\n",
      "2025/01/28 08:25:29 PM, INFO, mealpy.physics_based.SA.OriginalSA: >>>Problem: P, Epoch: 79, Current best: 0.0, Global best: 0.0, Runtime: 0.00029 seconds\n",
      "2025/01/28 08:25:29 PM, INFO, mealpy.physics_based.SA.OriginalSA: >>>Problem: P, Epoch: 80, Current best: 0.0, Global best: 0.0, Runtime: 0.00033 seconds\n",
      "2025/01/28 08:25:29 PM, INFO, mealpy.physics_based.SA.OriginalSA: >>>Problem: P, Epoch: 81, Current best: 0.0, Global best: 0.0, Runtime: 0.00034 seconds\n",
      "2025/01/28 08:25:29 PM, INFO, mealpy.physics_based.SA.OriginalSA: >>>Problem: P, Epoch: 82, Current best: 0.0, Global best: 0.0, Runtime: 0.00053 seconds\n",
      "2025/01/28 08:25:29 PM, INFO, mealpy.physics_based.SA.OriginalSA: >>>Problem: P, Epoch: 83, Current best: 0.0, Global best: 0.0, Runtime: 0.00036 seconds\n",
      "2025/01/28 08:25:29 PM, INFO, mealpy.physics_based.SA.OriginalSA: >>>Problem: P, Epoch: 84, Current best: 0.0, Global best: 0.0, Runtime: 0.00066 seconds\n",
      "2025/01/28 08:25:29 PM, INFO, mealpy.physics_based.SA.OriginalSA: >>>Problem: P, Epoch: 85, Current best: 0.0, Global best: 0.0, Runtime: 0.00036 seconds\n",
      "2025/01/28 08:25:29 PM, INFO, mealpy.physics_based.SA.OriginalSA: >>>Problem: P, Epoch: 86, Current best: 0.0, Global best: 0.0, Runtime: 0.00034 seconds\n",
      "2025/01/28 08:25:29 PM, INFO, mealpy.physics_based.SA.OriginalSA: >>>Problem: P, Epoch: 87, Current best: 0.0, Global best: 0.0, Runtime: 0.00031 seconds\n",
      "2025/01/28 08:25:29 PM, INFO, mealpy.physics_based.SA.OriginalSA: >>>Problem: P, Epoch: 88, Current best: 0.0, Global best: 0.0, Runtime: 0.00039 seconds\n",
      "2025/01/28 08:25:29 PM, INFO, mealpy.physics_based.SA.OriginalSA: >>>Problem: P, Epoch: 89, Current best: 0.0, Global best: 0.0, Runtime: 0.00034 seconds\n",
      "2025/01/28 08:25:29 PM, INFO, mealpy.physics_based.SA.OriginalSA: >>>Problem: P, Epoch: 90, Current best: 0.0, Global best: 0.0, Runtime: 0.00052 seconds\n",
      "2025/01/28 08:25:29 PM, INFO, mealpy.physics_based.SA.OriginalSA: >>>Problem: P, Epoch: 91, Current best: 0.0, Global best: 0.0, Runtime: 0.00032 seconds\n",
      "2025/01/28 08:25:29 PM, INFO, mealpy.physics_based.SA.OriginalSA: >>>Problem: P, Epoch: 92, Current best: 0.0, Global best: 0.0, Runtime: 0.00038 seconds\n",
      "2025/01/28 08:25:29 PM, INFO, mealpy.physics_based.SA.OriginalSA: >>>Problem: P, Epoch: 93, Current best: 0.0, Global best: 0.0, Runtime: 0.00034 seconds\n",
      "2025/01/28 08:25:29 PM, INFO, mealpy.physics_based.SA.OriginalSA: >>>Problem: P, Epoch: 94, Current best: 0.0, Global best: 0.0, Runtime: 0.00038 seconds\n",
      "2025/01/28 08:25:29 PM, INFO, mealpy.physics_based.SA.OriginalSA: >>>Problem: P, Epoch: 95, Current best: 0.0, Global best: 0.0, Runtime: 0.00034 seconds\n",
      "2025/01/28 08:25:29 PM, INFO, mealpy.physics_based.SA.OriginalSA: >>>Problem: P, Epoch: 96, Current best: 0.0, Global best: 0.0, Runtime: 0.00030 seconds\n",
      "2025/01/28 08:25:29 PM, INFO, mealpy.physics_based.SA.OriginalSA: >>>Problem: P, Epoch: 97, Current best: 0.0, Global best: 0.0, Runtime: 0.00032 seconds\n",
      "2025/01/28 08:25:29 PM, INFO, mealpy.physics_based.SA.OriginalSA: >>>Problem: P, Epoch: 98, Current best: 0.0, Global best: 0.0, Runtime: 0.00028 seconds\n",
      "2025/01/28 08:25:29 PM, INFO, mealpy.physics_based.SA.OriginalSA: >>>Problem: P, Epoch: 99, Current best: 0.0, Global best: 0.0, Runtime: 0.00050 seconds\n",
      "2025/01/28 08:25:29 PM, INFO, mealpy.physics_based.SA.OriginalSA: >>>Problem: P, Epoch: 100, Current best: 0.0, Global best: 0.0, Runtime: 0.00052 seconds\n"
     ]
    },
    {
     "name": "stdout",
     "output_type": "stream",
     "text": [
      "MEALPY SA Solution: [0. 0.]\n"
     ]
    }
   ],
   "source": [
    "#!pip install mealpy\n",
    "from numpy import arange\n",
    "import matplotlib.pyplot as plt\n",
    "from pylab import meshgrid\n",
    "from mealpy.physics_based.SA import OriginalSA\n",
    "from mealpy.utils.space import IntegerVar\n",
    "\n",
    "# Define integer bounds for each variable\n",
    "bounds = [\n",
    "    IntegerVar(lb=0, ub=1),  \n",
    "    IntegerVar(lb=0, ub=1)  \n",
    "]\n",
    "\n",
    "# Define the optimization problem\n",
    "problem = {\n",
    "    \"obj_func\": objective_function,  # Replace with your function\n",
    "    \"bounds\": bounds,\n",
    "    \"minmax\": \"min\", \n",
    "    \"obj_weights\": [1, 1] \n",
    "}\n",
    "\n",
    "# Define a SA solver\n",
    "model = OriginalSA(epoch=100, pop_size=10, temp_init=100, step_size=0.1)\n",
    "\n",
    "# Solve the problem using defined solver\n",
    "result = model.solve(problem)\n",
    "mealpy_solution=result.solution\n",
    "\n",
    "# Print the result\n",
    "print('MEALPY SA Solution:', mealpy_solution)"
   ]
  },
  {
   "cell_type": "markdown",
   "id": "d819c7d4",
   "metadata": {},
   "source": [
    "# Plotting the objective functions and the obtained solutions"
   ]
  },
  {
   "cell_type": "code",
   "execution_count": 3,
   "id": "3156f76d-0946-4e78-a6ec-b9d54698503c",
   "metadata": {},
   "outputs": [
    {
     "name": "stderr",
     "output_type": "stream",
     "text": [
      "C:\\Users\\drala\\AppData\\Local\\Temp\\ipykernel_14148\\2048966866.py:1: DeprecationWarning: Conversion of an array with ndim > 0 to a scalar is deprecated, and will error in future. Ensure you extract a single element from your array before performing this operation. (Deprecated NumPy 1.25.)\n",
      "  x = arange(bounds[0].lb, bounds[0].ub, 0.1)\n",
      "C:\\Users\\drala\\AppData\\Local\\Temp\\ipykernel_14148\\2048966866.py:2: DeprecationWarning: Conversion of an array with ndim > 0 to a scalar is deprecated, and will error in future. Ensure you extract a single element from your array before performing this operation. (Deprecated NumPy 1.25.)\n",
      "  y = arange(bounds[1].lb, bounds[1].ub, 0.1)\n"
     ]
    },
    {
     "data": {
      "image/png": "[encoded data removed]",
      "text/plain": [
       "<Figure size 1200x1000 with 2 Axes>"
      ]
     },
     "metadata": {},
     "output_type": "display_data"
    }
   ],
   "source": [
    "x = arange(bounds[0].lb, bounds[0].ub, 0.1)\n",
    "y = arange(bounds[1].lb, bounds[1].ub, 0.1) \n",
    "X,Y = meshgrid(x, y)\n",
    "F = objective_function([X,Y])\n",
    "\n",
    "plt.figure(figsize=(12, 10))\n",
    "plt.imshow(F, extent=[-5, 5,-5, 5], origin='lower', cmap='viridis')\n",
    "plt.colorbar(label=\"Bohachevsky function\")\n",
    "plt.scatter(res_dual['x'][0],res_dual['x'][1], c='red',  s=200, marker='o', edgecolors='white')\n",
    "plt.scatter(mealpy_solution[0],mealpy_solution[1], c='yellow',  s=200, marker='v', edgecolors='white')\n",
    "plt.scatter(0,0, c='black', s=200, marker='x')\n",
    "plt.xlabel('$x_1$')\n",
    "plt.ylabel('$x_2$')\n",
    "plt.show()"
   ]
  }
 ],
 "metadata": {
  "kernelspec": {
   "display_name": "ox",
   "language": "python",
   "name": "python3"
  },
  "language_info": {
   "codemirror_mode": {
    "name": "ipython",
    "version": 3
   },
   "file_extension": ".py",
   "mimetype": "text/x-python",
   "name": "python",
   "nbconvert_exporter": "python",
   "pygments_lexer": "ipython3",
   "version": "3.12.5"
  }
 },
 "nbformat": 4,
 "nbformat_minor": 5
}
